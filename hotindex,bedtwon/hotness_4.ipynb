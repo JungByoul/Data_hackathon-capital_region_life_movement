{
 "cells": [
  {
   "cell_type": "markdown",
   "id": "35fa7bf2",
   "metadata": {},
   "source": [
    "## 2.  핫플지수 확정\n",
    "\n"
   ]
  },
  {
   "cell_type": "code",
   "execution_count": 1,
   "id": "1af8d8ab",
   "metadata": {},
   "outputs": [
    {
     "name": "stdout",
     "output_type": "stream",
     "text": [
      "✅ 1️⃣ Parquet 스캔 시작\n",
      "   → LazyFrame 생성 완료\n"
     ]
    }
   ],
   "source": [
    "import polars as pl\n",
    "import numpy as np\n",
    "\n",
    "print(\"✅ 1️⃣ Parquet 스캔 시작\")\n",
    "lazy_df = pl.scan_parquet('combined_parquet/**/*.parquet', glob=True)\n",
    "print(\"   → LazyFrame 생성 완료\")\n"
   ]
  },
  {
   "cell_type": "code",
   "execution_count": 2,
   "id": "f7a65df3",
   "metadata": {},
   "outputs": [
    {
     "data": {
      "text/plain": [
       "polars.config.Config"
      ]
     },
     "execution_count": 2,
     "metadata": {},
     "output_type": "execute_result"
    }
   ],
   "source": [
    "import polars as pl\n",
    "\n",
    "# ———————— 풀 테이블 출력 설정 ————————\n",
    "pl.Config.set_tbl_rows(100)         # 최대 100행까지 줄임표 없이 표시\n",
    "pl.Config.set_tbl_cols(100)        # 최대 100열까지 표시\n",
    "pl.Config.set_tbl_formatting(\"UTF8_FULL\")  # 테두리 포함, 생략 없이 전체 보여주기\n"
   ]
  },
  {
   "cell_type": "code",
   "execution_count": 8,
   "id": "a390f816",
   "metadata": {},
   "outputs": [],
   "source": [
    "\n",
    "import polars as pl\n",
    "\n",
    "\n",
    "# 1️⃣ filtered 정의: 2024년··주요 목적 필터 + 날짜 파싱\n",
    "filtered = (\n",
    "    lazy_df\n",
    "      # ─ 날짜 범위: 2024-01-01 ~ 2024-12-31\n",
    "      .filter((pl.col(\"ETL_YMD\") >= \"20240101\") & (pl.col(\"ETL_YMD\") <= \"20241231\"))\n",
    "      \n",
    "      # ─ 시간 범위: 10시부터 23시까지\n",
    "      .filter((pl.col(\"TIME_CD\").cast(pl.Int64) >= 18) \n",
    "            & (pl.col(\"TIME_CD\").cast(pl.Int64) <= 23))\n",
    "      \n",
    "      # ─ 목적 필터: 관심 목적군만\n",
    "      .filter(pl.col(\"MOVE_PURPOSE\").is_in(\n",
    "          [\"쇼핑\",\"관광\",\"출근\",\"귀가\",\"병원\",\"기타\"]\n",
    "      ))\n",
    "\n",
    "\n",
    "      # ─ ETL_YMD 문자열을 Date 타입으로 바꿔서\n",
    "      .with_columns(\n",
    "          pl.col(\"ETL_YMD\")\n",
    "            .str.strptime(pl.Date, format=\"%Y%m%d\")\n",
    "            .alias(\"ETL_DATE\")\n",
    "      )\n",
    "          # ─ 주말(weekday 5,6)만\n",
    "      .filter(pl.col(\"ETL_DATE\").dt.weekday().is_in([5,6]))\n",
    "   \n",
    ")\n",
    "\n",
    "# 이제 `filtered`에 “원하는 기간·시간·목적·요일” 이 모두 적용되어 있으니,\n",
    "# 아래처럼 곧장 동별 연간 통계 계산에 쓰실 수 있습니다.\n",
    "\n"
   ]
  },
  {
   "cell_type": "code",
   "execution_count": 9,
   "id": "d9498587",
   "metadata": {},
   "outputs": [
    {
     "name": "stdout",
     "output_type": "stream",
     "text": [
      "✅ 동별 연간 Hotness4 TOP30:\n",
      "shape: (30, 2)\n",
      "┌───────────────────────────────┬──────────┐\n",
      "│ FULL_NM                       ┆ HOTNESS4 │\n",
      "│ ---                           ┆ ---      │\n",
      "│ str                           ┆ f64      │\n",
      "╞═══════════════════════════════╪══════════╡\n",
      "│ 서울특별시_광진구_화양동      ┆ 0.784644 │\n",
      "├╌╌╌╌╌╌╌╌╌╌╌╌╌╌╌╌╌╌╌╌╌╌╌╌╌╌╌╌╌╌╌┼╌╌╌╌╌╌╌╌╌╌┤\n",
      "│ 서울특별시_서대문구_신촌동    ┆ 0.777264 │\n",
      "├╌╌╌╌╌╌╌╌╌╌╌╌╌╌╌╌╌╌╌╌╌╌╌╌╌╌╌╌╌╌╌┼╌╌╌╌╌╌╌╌╌╌┤\n",
      "│ 서울특별시_마포구_서교동      ┆ 0.758635 │\n",
      "├╌╌╌╌╌╌╌╌╌╌╌╌╌╌╌╌╌╌╌╌╌╌╌╌╌╌╌╌╌╌╌┼╌╌╌╌╌╌╌╌╌╌┤\n",
      "│ 서울특별시_성북구_안암동      ┆ 0.742134 │\n",
      "├╌╌╌╌╌╌╌╌╌╌╌╌╌╌╌╌╌╌╌╌╌╌╌╌╌╌╌╌╌╌╌┼╌╌╌╌╌╌╌╌╌╌┤\n",
      "│ 서울특별시_동대문구_회기동    ┆ 0.730154 │\n",
      "├╌╌╌╌╌╌╌╌╌╌╌╌╌╌╌╌╌╌╌╌╌╌╌╌╌╌╌╌╌╌╌┼╌╌╌╌╌╌╌╌╌╌┤\n",
      "│ 서울특별시_성동구_사근동      ┆ 0.729808 │\n",
      "├╌╌╌╌╌╌╌╌╌╌╌╌╌╌╌╌╌╌╌╌╌╌╌╌╌╌╌╌╌╌╌┼╌╌╌╌╌╌╌╌╌╌┤\n",
      "│ 경기도_수원시_팔달구_매산동   ┆ 0.71585  │\n",
      "├╌╌╌╌╌╌╌╌╌╌╌╌╌╌╌╌╌╌╌╌╌╌╌╌╌╌╌╌╌╌╌┼╌╌╌╌╌╌╌╌╌╌┤\n",
      "│ 서울특별시_관악구_낙성대동    ┆ 0.712107 │\n",
      "├╌╌╌╌╌╌╌╌╌╌╌╌╌╌╌╌╌╌╌╌╌╌╌╌╌╌╌╌╌╌╌┼╌╌╌╌╌╌╌╌╌╌┤\n",
      "│ 인천광역시_미추홀구_용현1.4동 ┆ 0.701486 │\n",
      "├╌╌╌╌╌╌╌╌╌╌╌╌╌╌╌╌╌╌╌╌╌╌╌╌╌╌╌╌╌╌╌┼╌╌╌╌╌╌╌╌╌╌┤\n",
      "│ 서울특별시_용산구_이태원1동   ┆ 0.698811 │\n",
      "├╌╌╌╌╌╌╌╌╌╌╌╌╌╌╌╌╌╌╌╌╌╌╌╌╌╌╌╌╌╌╌┼╌╌╌╌╌╌╌╌╌╌┤\n",
      "│ 경기도_파주시_장단면          ┆ 0.693738 │\n",
      "├╌╌╌╌╌╌╌╌╌╌╌╌╌╌╌╌╌╌╌╌╌╌╌╌╌╌╌╌╌╌╌┼╌╌╌╌╌╌╌╌╌╌┤\n",
      "│ 서울특별시_동대문구_이문1동   ┆ 0.691854 │\n",
      "├╌╌╌╌╌╌╌╌╌╌╌╌╌╌╌╌╌╌╌╌╌╌╌╌╌╌╌╌╌╌╌┼╌╌╌╌╌╌╌╌╌╌┤\n",
      "│ 서울특별시_성북구_동선동      ┆ 0.690721 │\n",
      "├╌╌╌╌╌╌╌╌╌╌╌╌╌╌╌╌╌╌╌╌╌╌╌╌╌╌╌╌╌╌╌┼╌╌╌╌╌╌╌╌╌╌┤\n",
      "│ 서울특별시_종로구_혜화동      ┆ 0.686209 │\n",
      "├╌╌╌╌╌╌╌╌╌╌╌╌╌╌╌╌╌╌╌╌╌╌╌╌╌╌╌╌╌╌╌┼╌╌╌╌╌╌╌╌╌╌┤\n",
      "│ 서울특별시_관악구_청룡동      ┆ 0.677313 │\n",
      "├╌╌╌╌╌╌╌╌╌╌╌╌╌╌╌╌╌╌╌╌╌╌╌╌╌╌╌╌╌╌╌┼╌╌╌╌╌╌╌╌╌╌┤\n",
      "│ 서울특별시_관악구_서원동      ┆ 0.676202 │\n",
      "├╌╌╌╌╌╌╌╌╌╌╌╌╌╌╌╌╌╌╌╌╌╌╌╌╌╌╌╌╌╌╌┼╌╌╌╌╌╌╌╌╌╌┤\n",
      "│ 서울특별시_관악구_신림동      ┆ 0.675201 │\n",
      "├╌╌╌╌╌╌╌╌╌╌╌╌╌╌╌╌╌╌╌╌╌╌╌╌╌╌╌╌╌╌╌┼╌╌╌╌╌╌╌╌╌╌┤\n",
      "│ 경기도_안양시_동안구_범계동   ┆ 0.67363  │\n",
      "├╌╌╌╌╌╌╌╌╌╌╌╌╌╌╌╌╌╌╌╌╌╌╌╌╌╌╌╌╌╌╌┼╌╌╌╌╌╌╌╌╌╌┤\n",
      "│ 경기도_안산시_단원구_중앙동   ┆ 0.664315 │\n",
      "├╌╌╌╌╌╌╌╌╌╌╌╌╌╌╌╌╌╌╌╌╌╌╌╌╌╌╌╌╌╌╌┼╌╌╌╌╌╌╌╌╌╌┤\n",
      "│ 경기도_연천군_중면            ┆ 0.658343 │\n",
      "├╌╌╌╌╌╌╌╌╌╌╌╌╌╌╌╌╌╌╌╌╌╌╌╌╌╌╌╌╌╌╌┼╌╌╌╌╌╌╌╌╌╌┤\n",
      "│ 서울특별시_중구_을지로동      ┆ 0.656957 │\n",
      "├╌╌╌╌╌╌╌╌╌╌╌╌╌╌╌╌╌╌╌╌╌╌╌╌╌╌╌╌╌╌╌┼╌╌╌╌╌╌╌╌╌╌┤\n",
      "│ 서울특별시_중구_필동          ┆ 0.654126 │\n",
      "├╌╌╌╌╌╌╌╌╌╌╌╌╌╌╌╌╌╌╌╌╌╌╌╌╌╌╌╌╌╌╌┼╌╌╌╌╌╌╌╌╌╌┤\n",
      "│ 서울특별시_서초구_반포본동    ┆ 0.649026 │\n",
      "├╌╌╌╌╌╌╌╌╌╌╌╌╌╌╌╌╌╌╌╌╌╌╌╌╌╌╌╌╌╌╌┼╌╌╌╌╌╌╌╌╌╌┤\n",
      "│ 인천광역시_옹진군_연평면      ┆ 0.647037 │\n",
      "├╌╌╌╌╌╌╌╌╌╌╌╌╌╌╌╌╌╌╌╌╌╌╌╌╌╌╌╌╌╌╌┼╌╌╌╌╌╌╌╌╌╌┤\n",
      "│ 경기도_안성시_삼죽면          ┆ 0.646966 │\n",
      "├╌╌╌╌╌╌╌╌╌╌╌╌╌╌╌╌╌╌╌╌╌╌╌╌╌╌╌╌╌╌╌┼╌╌╌╌╌╌╌╌╌╌┤\n",
      "│ 서울특별시_마포구_대흥동      ┆ 0.646923 │\n",
      "├╌╌╌╌╌╌╌╌╌╌╌╌╌╌╌╌╌╌╌╌╌╌╌╌╌╌╌╌╌╌╌┼╌╌╌╌╌╌╌╌╌╌┤\n",
      "│ 서울특별시_동대문구_휘경1동   ┆ 0.643472 │\n",
      "├╌╌╌╌╌╌╌╌╌╌╌╌╌╌╌╌╌╌╌╌╌╌╌╌╌╌╌╌╌╌╌┼╌╌╌╌╌╌╌╌╌╌┤\n",
      "│ 서울특별시_성북구_정릉3동     ┆ 0.643165 │\n",
      "├╌╌╌╌╌╌╌╌╌╌╌╌╌╌╌╌╌╌╌╌╌╌╌╌╌╌╌╌╌╌╌┼╌╌╌╌╌╌╌╌╌╌┤\n",
      "│ 인천광역시_부평구_부평5동     ┆ 0.642329 │\n",
      "├╌╌╌╌╌╌╌╌╌╌╌╌╌╌╌╌╌╌╌╌╌╌╌╌╌╌╌╌╌╌╌┼╌╌╌╌╌╌╌╌╌╌┤\n",
      "│ 인천광역시_남동구_구월3동     ┆ 0.639642 │\n",
      "└───────────────────────────────┴──────────┘\n"
     ]
    }
   ],
   "source": [
    "# 3️⃣ 10·20대 방문자 합계 Expr\n",
    "cols_1020 = [\"MALE_10_CNT\",\"MALE_20_CNT\",\"FEML_10_CNT\",\"FEML_20_CNT\"]\n",
    "row_1020 = sum(\n",
    "    (pl.col(c).cast(pl.Float64) for c in cols_1020),\n",
    "    pl.lit(0.0)\n",
    ").alias(\"ROW_1020\")\n",
    "\n",
    "# 4️⃣ 주말 전체 방문자 합계 Expr (all age columns)\n",
    "all_age = [\n",
    "    \"MALE_00_CNT\",\"MALE_10_CNT\",\"MALE_20_CNT\",\"MALE_30_CNT\",\n",
    "    \"MALE_40_CNT\",\"MALE_50_CNT\",\"MALE_60_CNT\",\"MALE_70_CNT\",\n",
    "    \"FEML_00_CNT\",\"FEML_10_CNT\",\"FEML_20_CNT\",\"FEML_30_CNT\",\n",
    "    \"FEML_40_CNT\",\"FEML_50_CNT\",\"FEML_60_CNT\",\"FEML_70_CNT\"\n",
    "]\n",
    "row_total = sum(\n",
    "    (pl.col(c).cast(pl.Float64) for c in all_age),\n",
    "    pl.lit(0.0)\n",
    ").alias(\"ROW_WEEKEND_TOTAL\")\n",
    "\n",
    "# 5️⃣ ROW 컬럼 추가\n",
    "step = filtered.with_columns([row_1020, row_total])\n",
    "\n",
    "# 6️⃣ 동별 연간 합산 & Hotness4 계산\n",
    "hotness4 = (\n",
    "    step\n",
    "      .group_by(\"FULL_NM\")\n",
    "      .agg([\n",
    "        pl.sum(\"ROW_1020\").alias(\"ANNUAL_1020\"),\n",
    "        pl.sum(\"ROW_WEEKEND_TOTAL\").alias(\"ANNUAL_WEEKEND_TOTAL\"),\n",
    "      ])\n",
    "      .with_columns([\n",
    "        (\n",
    "          pl.col(\"ANNUAL_1020\").sqrt()\n",
    "          / pl.col(\"ANNUAL_WEEKEND_TOTAL\").sqrt()\n",
    "        ).alias(\"HOTNESS4\")\n",
    "      ])\n",
    "      .sort(\"HOTNESS4\", descending=True)\n",
    "      .limit(30)\n",
    "      .collect()\n",
    ")\n",
    "\n",
    "print(\"✅ 동별 연간 Hotness4 TOP30:\")\n",
    "print(hotness4.select([\"FULL_NM\",\"HOTNESS4\"]))"
   ]
  },
  {
   "cell_type": "code",
   "execution_count": 10,
   "id": "491b146b",
   "metadata": {},
   "outputs": [
    {
     "name": "stdout",
     "output_type": "stream",
     "text": [
      "\n",
      "▶ HOTNESS4 상위30 평균 : 0.686935\n",
      "▶ HOTNESS4 상위30 중앙값: 0.676757\n"
     ]
    }
   ],
   "source": [
    "# ── 5) 상위30 평균·중앙값 ──\n",
    "mean_h4   = hotness4[\"HOTNESS4\"].mean()\n",
    "median_h4 = hotness4[\"HOTNESS4\"].median()\n",
    "print(f\"\\n▶ HOTNESS4 상위30 평균 : {mean_h4:.6f}\")\n",
    "print(f\"▶ HOTNESS4 상위30 중앙값: {median_h4:.6f}\")"
   ]
  },
  {
   "cell_type": "code",
   "execution_count": 14,
   "id": "89731a97",
   "metadata": {},
   "outputs": [
    {
     "name": "stdout",
     "output_type": "stream",
     "text": [
      "▶ 난향동 연간 Hotness4:\n",
      "shape: (0, 2)\n",
      "┌─────────┬──────────┐\n",
      "│ FULL_NM ┆ HOTNESS4 │\n",
      "│ ---     ┆ ---      │\n",
      "│ str     ┆ f64      │\n",
      "╞═════════╪══════════╡\n",
      "└─────────┴──────────┘\n"
     ]
    }
   ],
   "source": [
    "# ─── 난향동(‘서울특별시_관악구_난향동’)의 Hotness4 값 추출 ─────────────────\n",
    "\n",
    "nanhyang_h4 = (\n",
    "    hotness4\n",
    "      .filter(pl.col(\"FULL_NM\") == \"서울특별시_관악구_난향동\")\n",
    "      .select([\"FULL_NM\",\"HOTNESS4\"])\n",
    ")\n",
    "\n",
    "print(\"▶ 난향동 연간 Hotness4:\")\n",
    "print(nanhyang_h4)\n"
   ]
  },
  {
   "cell_type": "code",
   "execution_count": 12,
   "id": "c8e41ac1",
   "metadata": {},
   "outputs": [
    {
     "name": "stdout",
     "output_type": "stream",
     "text": [
      "▶ Hotness4 > 0 중 최소값: 0.358208\n"
     ]
    }
   ],
   "source": [
    "# ─── 1️⃣ Annual4: 난향동 포함 모든 동의 Hotness4 계산 ─────────────────────\n",
    "annual4 = (\n",
    "    step\n",
    "      .group_by(\"FULL_NM\")\n",
    "      .agg([\n",
    "        pl.sum(\"ROW_1020\").alias(\"ANNUAL_1020\"),\n",
    "        pl.sum(\"ROW_WEEKEND_TOTAL\").alias(\"ANNUAL_WEEKEND_TOTAL\"),\n",
    "      ])\n",
    "      .with_columns([\n",
    "        (\n",
    "          pl.col(\"ANNUAL_1020\").sqrt()\n",
    "          / pl.col(\"ANNUAL_WEEKEND_TOTAL\").sqrt()\n",
    "        ).alias(\"HOTNESS4\")\n",
    "      ])\n",
    "      .collect()\n",
    ")\n",
    "\n",
    "# ─── 2️⃣ Hotness4 > 0 중 최소값 ───────────────────────────────────────\n",
    "min_positive_h4 = (\n",
    "    annual4\n",
    "      .filter(pl.col(\"HOTNESS4\") > 0.0)\n",
    "      .select(pl.col(\"HOTNESS4\").min())\n",
    "      .to_series()[0]\n",
    ")\n",
    "print(f\"▶ Hotness4 > 0 중 최소값: {min_positive_h4:.6f}\")\n"
   ]
  },
  {
   "cell_type": "code",
   "execution_count": null,
   "id": "075cc5be",
   "metadata": {},
   "outputs": [],
   "source": []
  }
 ],
 "metadata": {
  "kernelspec": {
   "display_name": "Python 3",
   "language": "python",
   "name": "python3"
  },
  "language_info": {
   "codemirror_mode": {
    "name": "ipython",
    "version": 3
   },
   "file_extension": ".py",
   "mimetype": "text/x-python",
   "name": "python",
   "nbconvert_exporter": "python",
   "pygments_lexer": "ipython3",
   "version": "3.12.11"
  }
 },
 "nbformat": 4,
 "nbformat_minor": 5
}
