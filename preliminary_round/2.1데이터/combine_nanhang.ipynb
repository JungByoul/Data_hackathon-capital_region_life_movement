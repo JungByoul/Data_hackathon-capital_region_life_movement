{
 "cells": [
  {
   "cell_type": "markdown",
   "id": "be8492a6",
   "metadata": {},
   "source": [
    "11620715:난향동\n",
    "11710690:잠실4동"
   ]
  },
  {
   "cell_type": "code",
   "execution_count": null,
   "id": "75494938",
   "metadata": {},
   "outputs": [],
   "source": []
  },
  {
   "cell_type": "code",
   "execution_count": 10,
   "id": "7793ce3b",
   "metadata": {},
   "outputs": [
    {
     "name": "stderr",
     "output_type": "stream",
     "text": [
      "/var/folders/34/nfsz0w6s5rl3lqtq7z6j5p_h0000gp/T/ipykernel_39918/831574403.py:27: DtypeWarning: Columns (1) have mixed types. Specify dtype option on import or set low_memory=False.\n",
      "  df = pd.read_csv(csvfile, encoding=\"utf-8\")  # 혹시 깨지면 cp949 시도\n"
     ]
    },
    {
     "name": "stdout",
     "output_type": "stream",
     "text": [
      "[ERROR] seoul_purpose_admdong4_in_20241216.zip: (\"Could not convert '28245614' with type str: tried to convert to double\", 'Conversion failed for column d_admdong_cd with type object')\n"
     ]
    },
    {
     "name": "stderr",
     "output_type": "stream",
     "text": [
      "/var/folders/34/nfsz0w6s5rl3lqtq7z6j5p_h0000gp/T/ipykernel_39918/831574403.py:27: DtypeWarning: Columns (1) have mixed types. Specify dtype option on import or set low_memory=False.\n",
      "  df = pd.read_csv(csvfile, encoding=\"utf-8\")  # 혹시 깨지면 cp949 시도\n"
     ]
    },
    {
     "name": "stdout",
     "output_type": "stream",
     "text": [
      "[ERROR] seoul_purpose_admdong4_in_20241202.zip: (\"Could not convert '51730350' with type str: tried to convert to double\", 'Conversion failed for column d_admdong_cd with type object')\n",
      "[SKIP] 이미 존재: seoul_purpose_admdong4_in_20241028.parquet\n",
      "[SKIP] 이미 존재: seoul_purpose_admdong4_in_20241014.parquet\n",
      "[OK] 변환 완료: seoul_purpose_admdong4_in_20240726.parquet\n",
      "[OK] 변환 완료: seoul_purpose_admdong4_in_20240929.parquet\n",
      "[OK] 변환 완료: seoul_purpose_admdong4_in_20240901.parquet\n",
      "[OK] 변환 완료: seoul_purpose_admdong4_in_20240915.parquet\n",
      "[OK] 변환 완료: seoul_purpose_admdong4_in_20240914.parquet\n",
      "[OK] 변환 완료: seoul_purpose_admdong4_in_20240928.parquet\n",
      "[OK] 변환 완료: seoul_purpose_admdong4_in_20240727.parquet\n",
      "[SKIP] 이미 존재: seoul_purpose_admdong4_in_20241001.parquet\n",
      "[SKIP] 이미 존재: seoul_purpose_admdong4_in_20241015.parquet\n",
      "[SKIP] 이미 존재: seoul_purpose_admdong4_in_20241029.parquet\n"
     ]
    },
    {
     "name": "stderr",
     "output_type": "stream",
     "text": [
      "/var/folders/34/nfsz0w6s5rl3lqtq7z6j5p_h0000gp/T/ipykernel_39918/831574403.py:27: DtypeWarning: Columns (1) have mixed types. Specify dtype option on import or set low_memory=False.\n",
      "  df = pd.read_csv(csvfile, encoding=\"utf-8\")  # 혹시 깨지면 cp949 시도\n"
     ]
    },
    {
     "name": "stdout",
     "output_type": "stream",
     "text": [
      "[ERROR] seoul_purpose_admdong4_in_20241203.zip: (\"Could not convert '11380552' with type str: tried to convert to double\", 'Conversion failed for column d_admdong_cd with type object')\n"
     ]
    },
    {
     "name": "stderr",
     "output_type": "stream",
     "text": [
      "/var/folders/34/nfsz0w6s5rl3lqtq7z6j5p_h0000gp/T/ipykernel_39918/831574403.py:27: DtypeWarning: Columns (1) have mixed types. Specify dtype option on import or set low_memory=False.\n",
      "  df = pd.read_csv(csvfile, encoding=\"utf-8\")  # 혹시 깨지면 cp949 시도\n"
     ]
    },
    {
     "name": "stdout",
     "output_type": "stream",
     "text": [
      "[ERROR] seoul_purpose_admdong4_in_20241217.zip: (\"Could not convert '28110628' with type str: tried to convert to double\", 'Conversion failed for column d_admdong_cd with type object')\n"
     ]
    },
    {
     "name": "stderr",
     "output_type": "stream",
     "text": [
      "/var/folders/34/nfsz0w6s5rl3lqtq7z6j5p_h0000gp/T/ipykernel_39918/831574403.py:27: DtypeWarning: Columns (1) have mixed types. Specify dtype option on import or set low_memory=False.\n",
      "  df = pd.read_csv(csvfile, encoding=\"utf-8\")  # 혹시 깨지면 cp949 시도\n"
     ]
    },
    {
     "name": "stdout",
     "output_type": "stream",
     "text": [
      "[ERROR] seoul_purpose_admdong4_in_20241229.zip: (\"Could not convert '41450585' with type str: tried to convert to double\", 'Conversion failed for column d_admdong_cd with type object')\n"
     ]
    },
    {
     "name": "stderr",
     "output_type": "stream",
     "text": [
      "/var/folders/34/nfsz0w6s5rl3lqtq7z6j5p_h0000gp/T/ipykernel_39918/831574403.py:27: DtypeWarning: Columns (1) have mixed types. Specify dtype option on import or set low_memory=False.\n",
      "  df = pd.read_csv(csvfile, encoding=\"utf-8\")  # 혹시 깨지면 cp949 시도\n"
     ]
    },
    {
     "name": "stdout",
     "output_type": "stream",
     "text": [
      "[ERROR] seoul_purpose_admdong4_in_20241201.zip: (\"Could not convert '11380690' with type str: tried to convert to double\", 'Conversion failed for column d_admdong_cd with type object')\n",
      "[OK] 변환 완료: seoul_purpose_admdong4_in_20241215.parquet\n",
      "[SKIP] 이미 존재: seoul_purpose_admdong4_in_20241003.parquet\n",
      "[SKIP] 이미 존재: seoul_purpose_admdong4_in_20241017.parquet\n",
      "[OK] 변환 완료: seoul_purpose_admdong4_in_20240731.parquet\n",
      "[OK] 변환 완료: seoul_purpose_admdong4_in_20240725.parquet\n",
      "[OK] 변환 완료: seoul_purpose_admdong4_in_20240719.parquet\n",
      "[OK] 변환 완료: seoul_purpose_admdong4_in_20240916.parquet\n",
      "[OK] 변환 완료: seoul_purpose_admdong4_in_20240902.parquet\n",
      "[OK] 변환 완료: seoul_purpose_admdong4_in_20240903.parquet\n",
      "[OK] 변환 완료: seoul_purpose_admdong4_in_20240917.parquet\n",
      "[OK] 변환 완료: seoul_purpose_admdong4_in_20240718.parquet\n",
      "[OK] 변환 완료: seoul_purpose_admdong4_in_20240724.parquet\n",
      "[OK] 변환 완료: seoul_purpose_admdong4_in_20240730.parquet\n",
      "[SKIP] 이미 존재: seoul_purpose_admdong4_in_20241016.parquet\n",
      "[SKIP] 이미 존재: seoul_purpose_admdong4_in_20241002.parquet\n",
      "[OK] 변환 완료: seoul_purpose_admdong4_in_20241214.parquet\n",
      "[OK] 변환 완료: seoul_purpose_admdong4_in_20241228.parquet\n"
     ]
    },
    {
     "name": "stderr",
     "output_type": "stream",
     "text": [
      "/var/folders/34/nfsz0w6s5rl3lqtq7z6j5p_h0000gp/T/ipykernel_39918/831574403.py:27: DtypeWarning: Columns (1) have mixed types. Specify dtype option on import or set low_memory=False.\n",
      "  df = pd.read_csv(csvfile, encoding=\"utf-8\")  # 혹시 깨지면 cp949 시도\n"
     ]
    },
    {
     "name": "stdout",
     "output_type": "stream",
     "text": [
      "[ERROR] seoul_purpose_admdong4_in_20241204.zip: (\"Could not convert '28245613' with type str: tried to convert to double\", 'Conversion failed for column d_admdong_cd with type object')\n"
     ]
    },
    {
     "name": "stderr",
     "output_type": "stream",
     "text": [
      "/var/folders/34/nfsz0w6s5rl3lqtq7z6j5p_h0000gp/T/ipykernel_39918/831574403.py:27: DtypeWarning: Columns (0,1) have mixed types. Specify dtype option on import or set low_memory=False.\n",
      "  df = pd.read_csv(csvfile, encoding=\"utf-8\")  # 혹시 깨지면 cp949 시도\n"
     ]
    },
    {
     "name": "stdout",
     "output_type": "stream",
     "text": [
      "[ERROR] seoul_purpose_admdong4_in_20241210.zip: (\"Could not convert '11560540' with type str: tried to convert to double\", 'Conversion failed for column o_admdong_cd with type object')\n",
      "[SKIP] 이미 존재: seoul_purpose_admdong4_in_20241006.parquet\n",
      "[SKIP] 이미 존재: seoul_purpose_admdong4_in_20241012.parquet\n",
      "[OK] 변환 완료: seoul_purpose_admdong4_in_20240708.parquet\n",
      "[OK] 변환 완료: seoul_purpose_admdong4_in_20240720.parquet\n",
      "[OK] 변환 완료: seoul_purpose_admdong4_in_20240913.parquet\n",
      "[OK] 변환 완료: seoul_purpose_admdong4_in_20240907.parquet\n",
      "[OK] 변환 완료: seoul_purpose_admdong4_in_20240906.parquet\n",
      "[OK] 변환 완료: seoul_purpose_admdong4_in_20240912.parquet\n",
      "[OK] 변환 완료: seoul_purpose_admdong4_in_20240721.parquet\n",
      "[OK] 변환 완료: seoul_purpose_admdong4_in_20240709.parquet\n",
      "[SKIP] 이미 존재: seoul_purpose_admdong4_in_20241013.parquet\n",
      "[SKIP] 이미 존재: seoul_purpose_admdong4_in_20241007.parquet\n"
     ]
    },
    {
     "name": "stderr",
     "output_type": "stream",
     "text": [
      "/var/folders/34/nfsz0w6s5rl3lqtq7z6j5p_h0000gp/T/ipykernel_39918/831574403.py:27: DtypeWarning: Columns (0,1) have mixed types. Specify dtype option on import or set low_memory=False.\n",
      "  df = pd.read_csv(csvfile, encoding=\"utf-8\")  # 혹시 깨지면 cp949 시도\n"
     ]
    },
    {
     "name": "stdout",
     "output_type": "stream",
     "text": [
      "[ERROR] seoul_purpose_admdong4_in_20241211.zip: (\"Could not convert '41271550' with type str: tried to convert to double\", 'Conversion failed for column o_admdong_cd with type object')\n",
      "[OK] 변환 완료: seoul_purpose_admdong4_in_20241205.parquet\n"
     ]
    },
    {
     "name": "stderr",
     "output_type": "stream",
     "text": [
      "/var/folders/34/nfsz0w6s5rl3lqtq7z6j5p_h0000gp/T/ipykernel_39918/831574403.py:27: DtypeWarning: Columns (1) have mixed types. Specify dtype option on import or set low_memory=False.\n",
      "  df = pd.read_csv(csvfile, encoding=\"utf-8\")  # 혹시 깨지면 cp949 시도\n"
     ]
    },
    {
     "name": "stdout",
     "output_type": "stream",
     "text": [
      "[ERROR] seoul_purpose_admdong4_in_20241213.zip: (\"Could not convert '41463550' with type str: tried to convert to double\", 'Conversion failed for column d_admdong_cd with type object')\n"
     ]
    },
    {
     "name": "stderr",
     "output_type": "stream",
     "text": [
      "/var/folders/34/nfsz0w6s5rl3lqtq7z6j5p_h0000gp/T/ipykernel_39918/831574403.py:27: DtypeWarning: Columns (1) have mixed types. Specify dtype option on import or set low_memory=False.\n",
      "  df = pd.read_csv(csvfile, encoding=\"utf-8\")  # 혹시 깨지면 cp949 시도\n"
     ]
    },
    {
     "name": "stdout",
     "output_type": "stream",
     "text": [
      "[ERROR] seoul_purpose_admdong4_in_20241207.zip: (\"Could not convert '41281580' with type str: tried to convert to int64\", 'Conversion failed for column d_admdong_cd with type object')\n",
      "[SKIP] 이미 존재: seoul_purpose_admdong4_in_20241011.parquet\n",
      "[SKIP] 이미 존재: seoul_purpose_admdong4_in_20241005.parquet\n",
      "[OK] 변환 완료: seoul_purpose_admdong4_in_20240723.parquet\n",
      "[OK] 변환 완료: seoul_purpose_admdong4_in_20240904.parquet\n",
      "[OK] 변환 완료: seoul_purpose_admdong4_in_20240910.parquet\n",
      "[OK] 변환 완료: seoul_purpose_admdong4_in_20240911.parquet\n",
      "[OK] 변환 완료: seoul_purpose_admdong4_in_20240905.parquet\n",
      "[OK] 변환 완료: seoul_purpose_admdong4_in_20240722.parquet\n",
      "[SKIP] 이미 존재: seoul_purpose_admdong4_in_20241004.parquet\n",
      "[SKIP] 이미 존재: seoul_purpose_admdong4_in_20241010.parquet\n"
     ]
    },
    {
     "name": "stderr",
     "output_type": "stream",
     "text": [
      "/var/folders/34/nfsz0w6s5rl3lqtq7z6j5p_h0000gp/T/ipykernel_39918/831574403.py:27: DtypeWarning: Columns (1) have mixed types. Specify dtype option on import or set low_memory=False.\n",
      "  df = pd.read_csv(csvfile, encoding=\"utf-8\")  # 혹시 깨지면 cp949 시도\n"
     ]
    },
    {
     "name": "stdout",
     "output_type": "stream",
     "text": [
      "[ERROR] seoul_purpose_admdong4_in_20241206.zip: (\"Could not convert '41113680' with type str: tried to convert to double\", 'Conversion failed for column d_admdong_cd with type object')\n",
      "[OK] 변환 완료: seoul_purpose_admdong4_in_20241212.parquet\n",
      "[OK] 변환 완료: seoul_purpose_admdong4_in_20240816.parquet\n",
      "[OK] 변환 완료: seoul_purpose_admdong4_in_20240802.parquet\n",
      "[OK] 변환 완료: seoul_purpose_admdong4_in_20241103.parquet\n",
      "[OK] 변환 완료: seoul_purpose_admdong4_in_20241117.parquet\n",
      "[OK] 변환 완료: seoul_purpose_admdong4_in_20241116.parquet\n",
      "[OK] 변환 완료: seoul_purpose_admdong4_in_20241102.parquet\n",
      "[OK] 변환 완료: seoul_purpose_admdong4_in_20240803.parquet\n",
      "[OK] 변환 완료: seoul_purpose_admdong4_in_20240817.parquet\n",
      "[OK] 변환 완료: seoul_purpose_admdong4_in_20240630.parquet\n",
      "[OK] 변환 완료: seoul_purpose_admdong4_in_20240829.parquet\n",
      "[OK] 변환 완료: seoul_purpose_admdong4_in_20240801.parquet\n",
      "[OK] 변환 완료: seoul_purpose_admdong4_in_20240815.parquet\n",
      "[OK] 변환 완료: seoul_purpose_admdong4_in_20241128.parquet\n",
      "[OK] 변환 완료: seoul_purpose_admdong4_in_20241114.parquet\n",
      "[OK] 변환 완료: seoul_purpose_admdong4_in_20241101.parquet\n",
      "[OK] 변환 완료: seoul_purpose_admdong4_in_20241115.parquet\n",
      "[OK] 변환 완료: seoul_purpose_admdong4_in_20241129.parquet\n",
      "[OK] 변환 완료: seoul_purpose_admdong4_in_20240814.parquet\n",
      "[OK] 변환 완료: seoul_purpose_admdong4_in_20240828.parquet\n",
      "[OK] 변환 완료: seoul_purpose_admdong4_in_20240804.parquet\n",
      "[OK] 변환 완료: seoul_purpose_admdong4_in_20240810.parquet\n",
      "[OK] 변환 완료: seoul_purpose_admdong4_in_20241111.parquet\n",
      "[OK] 변환 완료: seoul_purpose_admdong4_in_20241105.parquet\n",
      "[OK] 변환 완료: seoul_purpose_admdong4_in_20241104.parquet\n",
      "[OK] 변환 완료: seoul_purpose_admdong4_in_20241110.parquet\n",
      "[OK] 변환 완료: seoul_purpose_admdong4_in_20240811.parquet\n",
      "[OK] 변환 완료: seoul_purpose_admdong4_in_20240805.parquet\n",
      "[OK] 변환 완료: seoul_purpose_admdong4_in_20240813.parquet\n",
      "[OK] 변환 완료: seoul_purpose_admdong4_in_20240807.parquet\n",
      "[OK] 변환 완료: seoul_purpose_admdong4_in_20241106.parquet\n",
      "[OK] 변환 완료: seoul_purpose_admdong4_in_20241112.parquet\n",
      "[OK] 변환 완료: seoul_purpose_admdong4_in_20241113.parquet\n",
      "[OK] 변환 완료: seoul_purpose_admdong4_in_20241107.parquet\n",
      "[OK] 변환 완료: seoul_purpose_admdong4_in_20240806.parquet\n",
      "[OK] 변환 완료: seoul_purpose_admdong4_in_20240812.parquet\n",
      "[OK] 변환 완료: seoul_purpose_admdong4_in_20240823.parquet\n",
      "[OK] 변환 완료: seoul_purpose_admdong4_in_20241122.parquet\n",
      "[OK] 변환 완료: seoul_purpose_admdong4_in_20241123.parquet\n",
      "[OK] 변환 완료: seoul_purpose_admdong4_in_20240822.parquet\n",
      "[OK] 변환 완료: seoul_purpose_admdong4_in_20240808.parquet\n",
      "[OK] 변환 완료: seoul_purpose_admdong4_in_20240820.parquet\n",
      "[OK] 변환 완료: seoul_purpose_admdong4_in_20241109.parquet\n",
      "[OK] 변환 완료: seoul_purpose_admdong4_in_20241121.parquet\n",
      "[OK] 변환 완료: seoul_purpose_admdong4_in_20241120.parquet\n",
      "[OK] 변환 완료: seoul_purpose_admdong4_in_20241108.parquet\n",
      "[OK] 변환 완료: seoul_purpose_admdong4_in_20240821.parquet\n",
      "[OK] 변환 완료: seoul_purpose_admdong4_in_20240809.parquet\n",
      "[OK] 변환 완료: seoul_purpose_admdong4_in_20240825.parquet\n",
      "[OK] 변환 완료: seoul_purpose_admdong4_in_20240831.parquet\n",
      "[OK] 변환 완료: seoul_purpose_admdong4_in_20240819.parquet\n",
      "[OK] 변환 완료: seoul_purpose_admdong4_in_20241130.parquet\n",
      "[OK] 변환 완료: seoul_purpose_admdong4_in_20241124.parquet\n",
      "[OK] 변환 완료: seoul_purpose_admdong4_in_20241118.parquet\n",
      "[OK] 변환 완료: seoul_purpose_admdong4_in_20241119.parquet\n",
      "[OK] 변환 완료: seoul_purpose_admdong4_in_20241125.parquet\n",
      "[OK] 변환 완료: seoul_purpose_admdong4_in_20240818.parquet\n",
      "[OK] 변환 완료: seoul_purpose_admdong4_in_20240830.parquet\n",
      "[OK] 변환 완료: seoul_purpose_admdong4_in_20240824.parquet\n",
      "[OK] 변환 완료: seoul_purpose_admdong4_in_20240826.parquet\n",
      "[OK] 변환 완료: seoul_purpose_admdong4_in_20241127.parquet\n",
      "[OK] 변환 완료: seoul_purpose_admdong4_in_20241126.parquet\n",
      "[OK] 변환 완료: seoul_purpose_admdong4_in_20240827.parquet\n"
     ]
    },
    {
     "name": "stderr",
     "output_type": "stream",
     "text": [
      "/var/folders/34/nfsz0w6s5rl3lqtq7z6j5p_h0000gp/T/ipykernel_39918/831574403.py:27: DtypeWarning: Columns (1) have mixed types. Specify dtype option on import or set low_memory=False.\n",
      "  df = pd.read_csv(csvfile, encoding=\"utf-8\")  # 혹시 깨지면 cp949 시도\n"
     ]
    },
    {
     "name": "stdout",
     "output_type": "stream",
     "text": [
      "[ERROR] seoul_purpose_admdong4_in_20241223.zip: (\"Could not convert '11560535' with type str: tried to convert to double\", 'Conversion failed for column d_admdong_cd with type object')\n",
      "[SKIP] 이미 존재: seoul_purpose_admdong4_in_20241009.parquet\n",
      "[SKIP] 이미 존재: seoul_purpose_admdong4_in_20241021.parquet\n",
      "[OK] 변환 완료: seoul_purpose_admdong4_in_20240707.parquet\n",
      "[OK] 변환 완료: seoul_purpose_admdong4_in_20240713.parquet\n",
      "[OK] 변환 완료: seoul_purpose_admdong4_in_20240908.parquet\n",
      "[OK] 변환 완료: seoul_purpose_admdong4_in_20240920.parquet\n",
      "[OK] 변환 완료: seoul_purpose_admdong4_in_20240921.parquet\n",
      "[OK] 변환 완료: seoul_purpose_admdong4_in_20240909.parquet\n",
      "[OK] 변환 완료: seoul_purpose_admdong4_in_20240712.parquet\n",
      "[OK] 변환 완료: seoul_purpose_admdong4_in_20240706.parquet\n",
      "[SKIP] 이미 존재: seoul_purpose_admdong4_in_20241020.parquet\n",
      "[SKIP] 이미 존재: seoul_purpose_admdong4_in_20241008.parquet\n",
      "[OK] 변환 완료: seoul_purpose_admdong4_in_20241222.parquet\n",
      "[OK] 변환 완료: seoul_purpose_admdong4_in_20241208.parquet\n"
     ]
    },
    {
     "name": "stderr",
     "output_type": "stream",
     "text": [
      "/var/folders/34/nfsz0w6s5rl3lqtq7z6j5p_h0000gp/T/ipykernel_39918/831574403.py:27: DtypeWarning: Columns (0) have mixed types. Specify dtype option on import or set low_memory=False.\n",
      "  df = pd.read_csv(csvfile, encoding=\"utf-8\")  # 혹시 깨지면 cp949 시도\n"
     ]
    },
    {
     "name": "stdout",
     "output_type": "stream",
     "text": [
      "[ERROR] seoul_purpose_admdong4_in_20241220.zip: (\"Could not convert '11650651' with type str: tried to convert to double\", 'Conversion failed for column o_admdong_cd with type object')\n",
      "[SKIP] 이미 존재: seoul_purpose_admdong4_in_20241022.parquet\n",
      "[OK] 변환 완료: seoul_purpose_admdong4_in_20240710.parquet\n",
      "[OK] 변환 완료: seoul_purpose_admdong4_in_20240923.parquet\n",
      "[OK] 변환 완료: seoul_purpose_admdong4_in_20240922.parquet\n",
      "[OK] 변환 완료: seoul_purpose_admdong4_in_20240705.parquet\n",
      "[OK] 변환 완료: seoul_purpose_admdong4_in_20240711.parquet\n",
      "[SKIP] 이미 존재: seoul_purpose_admdong4_in_20241023.parquet\n",
      "[OK] 변환 완료: seoul_purpose_admdong4_in_20241221.parquet\n"
     ]
    },
    {
     "name": "stderr",
     "output_type": "stream",
     "text": [
      "/var/folders/34/nfsz0w6s5rl3lqtq7z6j5p_h0000gp/T/ipykernel_39918/831574403.py:27: DtypeWarning: Columns (0,1) have mixed types. Specify dtype option on import or set low_memory=False.\n",
      "  df = pd.read_csv(csvfile, encoding=\"utf-8\")  # 혹시 깨지면 cp949 시도\n"
     ]
    },
    {
     "name": "stdout",
     "output_type": "stream",
     "text": [
      "[ERROR] seoul_purpose_admdong4_in_20241209.zip: (\"Could not convert '11305615' with type str: tried to convert to double\", 'Conversion failed for column o_admdong_cd with type object')\n"
     ]
    },
    {
     "name": "stderr",
     "output_type": "stream",
     "text": [
      "/var/folders/34/nfsz0w6s5rl3lqtq7z6j5p_h0000gp/T/ipykernel_39918/831574403.py:27: DtypeWarning: Columns (0,1) have mixed types. Specify dtype option on import or set low_memory=False.\n",
      "  df = pd.read_csv(csvfile, encoding=\"utf-8\")  # 혹시 깨지면 cp949 시도\n"
     ]
    },
    {
     "name": "stdout",
     "output_type": "stream",
     "text": [
      "[ERROR] seoul_purpose_admdong4_in_20241225.zip: (\"Expected bytes, got a 'float' object\", 'Conversion failed for column o_admdong_cd with type object')\n"
     ]
    },
    {
     "name": "stderr",
     "output_type": "stream",
     "text": [
      "/var/folders/34/nfsz0w6s5rl3lqtq7z6j5p_h0000gp/T/ipykernel_39918/831574403.py:27: DtypeWarning: Columns (1) have mixed types. Specify dtype option on import or set low_memory=False.\n",
      "  df = pd.read_csv(csvfile, encoding=\"utf-8\")  # 혹시 깨지면 cp949 시도\n"
     ]
    },
    {
     "name": "stdout",
     "output_type": "stream",
     "text": [
      "[ERROR] seoul_purpose_admdong4_in_20241231.zip: (\"Could not convert '11680580' with type str: tried to convert to double\", 'Conversion failed for column d_admdong_cd with type object')\n",
      "[OK] 변환 완료: seoul_purpose_admdong4_in_20241219.parquet\n",
      "[SKIP] 이미 존재: seoul_purpose_admdong4_in_20241027.parquet\n",
      "[OK] 변환 완료: seoul_purpose_admdong4_in_20240729.parquet\n",
      "[OK] 변환 완료: seoul_purpose_admdong4_in_20240715.parquet\n",
      "[OK] 변환 완료: seoul_purpose_admdong4_in_20240701.parquet\n",
      "[OK] 변환 완료: seoul_purpose_admdong4_in_20240926.parquet\n",
      "[OK] 변환 완료: seoul_purpose_admdong4_in_20240927.parquet\n",
      "[OK] 변환 완료: seoul_purpose_admdong4_in_20240714.parquet\n",
      "[OK] 변환 완료: seoul_purpose_admdong4_in_20240728.parquet\n",
      "[SKIP] 이미 존재: seoul_purpose_admdong4_in_20241026.parquet\n",
      "[OK] 변환 완료: seoul_purpose_admdong4_in_20241218.parquet\n"
     ]
    },
    {
     "name": "stderr",
     "output_type": "stream",
     "text": [
      "/var/folders/34/nfsz0w6s5rl3lqtq7z6j5p_h0000gp/T/ipykernel_39918/831574403.py:27: DtypeWarning: Columns (1) have mixed types. Specify dtype option on import or set low_memory=False.\n",
      "  df = pd.read_csv(csvfile, encoding=\"utf-8\")  # 혹시 깨지면 cp949 시도\n"
     ]
    },
    {
     "name": "stdout",
     "output_type": "stream",
     "text": [
      "[ERROR] seoul_purpose_admdong4_in_20241230.zip: (\"Expected bytes, got a 'int' object\", 'Conversion failed for column d_admdong_cd with type object')\n"
     ]
    },
    {
     "name": "stderr",
     "output_type": "stream",
     "text": [
      "/var/folders/34/nfsz0w6s5rl3lqtq7z6j5p_h0000gp/T/ipykernel_39918/831574403.py:27: DtypeWarning: Columns (1) have mixed types. Specify dtype option on import or set low_memory=False.\n",
      "  df = pd.read_csv(csvfile, encoding=\"utf-8\")  # 혹시 깨지면 cp949 시도\n"
     ]
    },
    {
     "name": "stdout",
     "output_type": "stream",
     "text": [
      "[ERROR] seoul_purpose_admdong4_in_20241224.zip: (\"Could not convert '11680670' with type str: tried to convert to double\", 'Conversion failed for column d_admdong_cd with type object')\n"
     ]
    },
    {
     "name": "stderr",
     "output_type": "stream",
     "text": [
      "/var/folders/34/nfsz0w6s5rl3lqtq7z6j5p_h0000gp/T/ipykernel_39918/831574403.py:27: DtypeWarning: Columns (1) have mixed types. Specify dtype option on import or set low_memory=False.\n",
      "  df = pd.read_csv(csvfile, encoding=\"utf-8\")  # 혹시 깨지면 cp949 시도\n"
     ]
    },
    {
     "name": "stdout",
     "output_type": "stream",
     "text": [
      "[ERROR] seoul_purpose_admdong4_in_20241226.zip: (\"Could not convert '41194550' with type str: tried to convert to double\", 'Conversion failed for column d_admdong_cd with type object')\n",
      "[SKIP] 이미 존재: seoul_purpose_admdong4_in_20241030.parquet\n",
      "[SKIP] 이미 존재: seoul_purpose_admdong4_in_20241024.parquet\n",
      "[SKIP] 이미 존재: seoul_purpose_admdong4_in_20241018.parquet\n",
      "[OK] 변환 완료: seoul_purpose_admdong4_in_20240702.parquet\n",
      "[OK] 변환 완료: seoul_purpose_admdong4_in_20240716.parquet\n",
      "[OK] 변환 완료: seoul_purpose_admdong4_in_20240925.parquet\n",
      "[OK] 변환 완료: seoul_purpose_admdong4_in_20240919.parquet\n",
      "[OK] 변환 완료: seoul_purpose_admdong4_in_20240918.parquet\n",
      "[OK] 변환 완료: seoul_purpose_admdong4_in_20240930.parquet\n",
      "[OK] 변환 완료: seoul_purpose_admdong4_in_20240924.parquet\n",
      "[OK] 변환 완료: seoul_purpose_admdong4_in_20240717.parquet\n",
      "[SKIP] 이미 존재: seoul_purpose_admdong4_in_20241019.parquet\n",
      "[SKIP] 이미 존재: seoul_purpose_admdong4_in_20241025.parquet\n",
      "[SKIP] 이미 존재: seoul_purpose_admdong4_in_20241031.parquet\n",
      "[OK] 변환 완료: seoul_purpose_admdong4_in_20241227.parquet\n",
      "\n",
      "⚠️ 변환 실패 목록:\n",
      "seoul_purpose_admdong4_in_20241216.zip → (\"Could not convert '28245614' with type str: tried to convert to double\", 'Conversion failed for column d_admdong_cd with type object')\n",
      "seoul_purpose_admdong4_in_20241202.zip → (\"Could not convert '51730350' with type str: tried to convert to double\", 'Conversion failed for column d_admdong_cd with type object')\n",
      "seoul_purpose_admdong4_in_20241203.zip → (\"Could not convert '11380552' with type str: tried to convert to double\", 'Conversion failed for column d_admdong_cd with type object')\n",
      "seoul_purpose_admdong4_in_20241217.zip → (\"Could not convert '28110628' with type str: tried to convert to double\", 'Conversion failed for column d_admdong_cd with type object')\n",
      "seoul_purpose_admdong4_in_20241229.zip → (\"Could not convert '41450585' with type str: tried to convert to double\", 'Conversion failed for column d_admdong_cd with type object')\n",
      "seoul_purpose_admdong4_in_20241201.zip → (\"Could not convert '11380690' with type str: tried to convert to double\", 'Conversion failed for column d_admdong_cd with type object')\n",
      "seoul_purpose_admdong4_in_20241204.zip → (\"Could not convert '28245613' with type str: tried to convert to double\", 'Conversion failed for column d_admdong_cd with type object')\n",
      "seoul_purpose_admdong4_in_20241210.zip → (\"Could not convert '11560540' with type str: tried to convert to double\", 'Conversion failed for column o_admdong_cd with type object')\n",
      "seoul_purpose_admdong4_in_20241211.zip → (\"Could not convert '41271550' with type str: tried to convert to double\", 'Conversion failed for column o_admdong_cd with type object')\n",
      "seoul_purpose_admdong4_in_20241213.zip → (\"Could not convert '41463550' with type str: tried to convert to double\", 'Conversion failed for column d_admdong_cd with type object')\n",
      "seoul_purpose_admdong4_in_20241207.zip → (\"Could not convert '41281580' with type str: tried to convert to int64\", 'Conversion failed for column d_admdong_cd with type object')\n",
      "seoul_purpose_admdong4_in_20241206.zip → (\"Could not convert '41113680' with type str: tried to convert to double\", 'Conversion failed for column d_admdong_cd with type object')\n",
      "seoul_purpose_admdong4_in_20241223.zip → (\"Could not convert '11560535' with type str: tried to convert to double\", 'Conversion failed for column d_admdong_cd with type object')\n",
      "seoul_purpose_admdong4_in_20241220.zip → (\"Could not convert '11650651' with type str: tried to convert to double\", 'Conversion failed for column o_admdong_cd with type object')\n",
      "seoul_purpose_admdong4_in_20241209.zip → (\"Could not convert '11305615' with type str: tried to convert to double\", 'Conversion failed for column o_admdong_cd with type object')\n",
      "seoul_purpose_admdong4_in_20241225.zip → (\"Expected bytes, got a 'float' object\", 'Conversion failed for column o_admdong_cd with type object')\n",
      "seoul_purpose_admdong4_in_20241231.zip → (\"Could not convert '11680580' with type str: tried to convert to double\", 'Conversion failed for column d_admdong_cd with type object')\n",
      "seoul_purpose_admdong4_in_20241230.zip → (\"Expected bytes, got a 'int' object\", 'Conversion failed for column d_admdong_cd with type object')\n",
      "seoul_purpose_admdong4_in_20241224.zip → (\"Could not convert '11680670' with type str: tried to convert to double\", 'Conversion failed for column d_admdong_cd with type object')\n",
      "seoul_purpose_admdong4_in_20241226.zip → (\"Could not convert '41194550' with type str: tried to convert to double\", 'Conversion failed for column d_admdong_cd with type object')\n"
     ]
    }
   ],
   "source": [
    "import os\n",
    "import zipfile\n",
    "import pandas as pd\n",
    "\n",
    "zip_dir = \"/Users/Star1/Desktop/2025/2025여름/수도권_해커톤/2.1열린데이터광장/data_crawling\"         # ZIP들이 있는 폴더\n",
    "parquet_dir = \"/Users/Star1/Desktop/2025/2025여름/수도권_해커톤/2.1열린데이터광장/parquets\" # PARQUET 저장 폴더\n",
    "os.makedirs(parquet_dir, exist_ok=True)\n",
    "\n",
    "errors = []\n",
    "\n",
    "dtype_spec = {\n",
    "    \"o_admdong_cd\": str,\n",
    "    \"d_admdong_cd\": str,\n",
    "    \"st_time_cd\": str,\n",
    "    \"fns_time_cd\": str\n",
    "}\n",
    "\n",
    "\n",
    "for fname in os.listdir(zip_dir):\n",
    "    if not fname.endswith(\".zip\"):\n",
    "        continue\n",
    "\n",
    "    zip_path = os.path.join(zip_dir, fname)\n",
    "    base_name = fname.replace(\".zip\", \"\")\n",
    "    csv_name = f\"{base_name}.csv\"\n",
    "    parquet_path = os.path.join(parquet_dir, f\"{base_name}.parquet\")\n",
    "\n",
    "    if os.path.exists(parquet_path):\n",
    "        print(f\"[SKIP] 이미 존재: {base_name}.parquet\")\n",
    "        continue\n",
    "\n",
    "    try:\n",
    "        with zipfile.ZipFile(zip_path, 'r') as zf:\n",
    "            with zf.open(csv_name) as csvfile:\n",
    "                df = pd.read_csv(csvfile, encoding=\"utf-8\", dtype=dtype_spec, low_memory=False)  # 혹시 깨지면 cp949 시도\n",
    "                df.to_parquet(parquet_path, index=False)\n",
    "                print(f\"[OK] 변환 완료: {base_name}.parquet\")\n",
    "    except Exception as e:\n",
    "        print(f\"[ERROR] {fname}: {e}\")\n",
    "        errors.append((fname, str(e)))\n",
    "\n",
    "# 에러 요약\n",
    "if errors:\n",
    "    print(\"\\n⚠️ 변환 실패 목록:\")\n",
    "    for f, msg in errors:\n",
    "        print(f\"{f} → {msg}\")\n"
   ]
  },
  {
   "cell_type": "code",
   "execution_count": null,
   "id": "d85a6a84",
   "metadata": {},
   "outputs": [],
   "source": []
  },
  {
   "cell_type": "markdown",
   "id": "c79d93de",
   "metadata": {},
   "source": [
    "## 1. 출발지가 난향동인 데이터 먼저!!"
   ]
  },
  {
   "cell_type": "code",
   "execution_count": 24,
   "id": "37484a2d",
   "metadata": {},
   "outputs": [
    {
     "name": "stdout",
     "output_type": "stream",
     "text": [
      "[ERROR] seoul_purpose_admdong4_in_20240630.parquet → 'o_admdong_cd'\n",
      "[✓] seoul_purpose_admdong4_in_20240701.parquet → 2346 rows\n",
      "[✓] seoul_purpose_admdong4_in_20240702.parquet → 2203 rows\n",
      "[✓] seoul_purpose_admdong4_in_20240705.parquet → 2376 rows\n",
      "[✓] seoul_purpose_admdong4_in_20240706.parquet → 2021 rows\n",
      "[✓] seoul_purpose_admdong4_in_20240707.parquet → 1719 rows\n",
      "[✓] seoul_purpose_admdong4_in_20240708.parquet → 2162 rows\n",
      "[✓] seoul_purpose_admdong4_in_20240709.parquet → 2256 rows\n",
      "[✓] seoul_purpose_admdong4_in_20240710.parquet → 2346 rows\n",
      "[✓] seoul_purpose_admdong4_in_20240711.parquet → 2306 rows\n",
      "[✓] seoul_purpose_admdong4_in_20240712.parquet → 2437 rows\n",
      "[✓] seoul_purpose_admdong4_in_20240713.parquet → 2032 rows\n",
      "[✓] seoul_purpose_admdong4_in_20240714.parquet → 1749 rows\n",
      "[✓] seoul_purpose_admdong4_in_20240715.parquet → 2310 rows\n",
      "[✓] seoul_purpose_admdong4_in_20240716.parquet → 2266 rows\n",
      "[✓] seoul_purpose_admdong4_in_20240717.parquet → 2231 rows\n",
      "[✓] seoul_purpose_admdong4_in_20240718.parquet → 2123 rows\n",
      "[✓] seoul_purpose_admdong4_in_20240719.parquet → 2387 rows\n",
      "[✓] seoul_purpose_admdong4_in_20240720.parquet → 1968 rows\n",
      "[✓] seoul_purpose_admdong4_in_20240721.parquet → 1690 rows\n",
      "[✓] seoul_purpose_admdong4_in_20240722.parquet → 2165 rows\n",
      "[✓] seoul_purpose_admdong4_in_20240723.parquet → 2234 rows\n",
      "[✓] seoul_purpose_admdong4_in_20240724.parquet → 2253 rows\n",
      "[✓] seoul_purpose_admdong4_in_20240725.parquet → 2299 rows\n",
      "[✓] seoul_purpose_admdong4_in_20240726.parquet → 2301 rows\n",
      "[✓] seoul_purpose_admdong4_in_20240727.parquet → 1931 rows\n",
      "[✓] seoul_purpose_admdong4_in_20240728.parquet → 1667 rows\n",
      "[✓] seoul_purpose_admdong4_in_20240729.parquet → 2134 rows\n",
      "[✓] seoul_purpose_admdong4_in_20240730.parquet → 2163 rows\n",
      "[✓] seoul_purpose_admdong4_in_20240731.parquet → 2136 rows\n",
      "[✓] seoul_purpose_admdong4_in_20240801.parquet → 2174 rows\n",
      "[✓] seoul_purpose_admdong4_in_20240802.parquet → 2223 rows\n",
      "[✓] seoul_purpose_admdong4_in_20240803.parquet → 1874 rows\n",
      "[✓] seoul_purpose_admdong4_in_20240804.parquet → 1657 rows\n",
      "[✓] seoul_purpose_admdong4_in_20240805.parquet → 2179 rows\n",
      "[✓] seoul_purpose_admdong4_in_20240806.parquet → 2166 rows\n",
      "[✓] seoul_purpose_admdong4_in_20240807.parquet → 2192 rows\n",
      "[✓] seoul_purpose_admdong4_in_20240808.parquet → 2183 rows\n",
      "[✓] seoul_purpose_admdong4_in_20240809.parquet → 2253 rows\n",
      "[✓] seoul_purpose_admdong4_in_20240810.parquet → 1988 rows\n",
      "[✓] seoul_purpose_admdong4_in_20240811.parquet → 1677 rows\n",
      "[✓] seoul_purpose_admdong4_in_20240812.parquet → 2236 rows\n",
      "[✓] seoul_purpose_admdong4_in_20240813.parquet → 2316 rows\n",
      "[✓] seoul_purpose_admdong4_in_20240814.parquet → 2265 rows\n",
      "[✓] seoul_purpose_admdong4_in_20240815.parquet → 1749 rows\n",
      "[✓] seoul_purpose_admdong4_in_20240816.parquet → 2240 rows\n",
      "[✓] seoul_purpose_admdong4_in_20240817.parquet → 1887 rows\n",
      "[✓] seoul_purpose_admdong4_in_20240818.parquet → 1674 rows\n",
      "[✓] seoul_purpose_admdong4_in_20240819.parquet → 2251 rows\n",
      "[✓] seoul_purpose_admdong4_in_20240820.parquet → 2336 rows\n",
      "[✓] seoul_purpose_admdong4_in_20240821.parquet → 2215 rows\n",
      "[✓] seoul_purpose_admdong4_in_20240822.parquet → 2239 rows\n",
      "[✓] seoul_purpose_admdong4_in_20240823.parquet → 2353 rows\n",
      "[✓] seoul_purpose_admdong4_in_20240824.parquet → 1960 rows\n",
      "[✓] seoul_purpose_admdong4_in_20240825.parquet → 1689 rows\n",
      "[✓] seoul_purpose_admdong4_in_20240826.parquet → 2259 rows\n",
      "[✓] seoul_purpose_admdong4_in_20240827.parquet → 2287 rows\n",
      "[✓] seoul_purpose_admdong4_in_20240828.parquet → 2294 rows\n",
      "[✓] seoul_purpose_admdong4_in_20240829.parquet → 2331 rows\n",
      "[✓] seoul_purpose_admdong4_in_20240830.parquet → 2383 rows\n",
      "[✓] seoul_purpose_admdong4_in_20240831.parquet → 2050 rows\n",
      "[✓] seoul_purpose_admdong4_in_20240901.parquet → 1753 rows\n",
      "[✓] seoul_purpose_admdong4_in_20240902.parquet → 2273 rows\n",
      "[✓] seoul_purpose_admdong4_in_20240903.parquet → 2396 rows\n",
      "[✓] seoul_purpose_admdong4_in_20240904.parquet → 2389 rows\n",
      "[✓] seoul_purpose_admdong4_in_20240905.parquet → 2337 rows\n",
      "[✓] seoul_purpose_admdong4_in_20240906.parquet → 2421 rows\n",
      "[✓] seoul_purpose_admdong4_in_20240907.parquet → 2060 rows\n",
      "[✓] seoul_purpose_admdong4_in_20240908.parquet → 1784 rows\n",
      "[✓] seoul_purpose_admdong4_in_20240909.parquet → 2303 rows\n",
      "[✓] seoul_purpose_admdong4_in_20240910.parquet → 2377 rows\n",
      "[✓] seoul_purpose_admdong4_in_20240911.parquet → 2350 rows\n",
      "[✓] seoul_purpose_admdong4_in_20240912.parquet → 2319 rows\n",
      "[✓] seoul_purpose_admdong4_in_20240913.parquet → 2355 rows\n",
      "[✓] seoul_purpose_admdong4_in_20240914.parquet → 1989 rows\n",
      "[✓] seoul_purpose_admdong4_in_20240915.parquet → 1899 rows\n",
      "[✓] seoul_purpose_admdong4_in_20240916.parquet → 1694 rows\n",
      "[✓] seoul_purpose_admdong4_in_20240917.parquet → 2188 rows\n",
      "[✓] seoul_purpose_admdong4_in_20240918.parquet → 1594 rows\n",
      "[✓] seoul_purpose_admdong4_in_20240919.parquet → 2222 rows\n",
      "[✓] seoul_purpose_admdong4_in_20240920.parquet → 2199 rows\n",
      "[✓] seoul_purpose_admdong4_in_20240921.parquet → 1904 rows\n",
      "[✓] seoul_purpose_admdong4_in_20240922.parquet → 1723 rows\n",
      "[✓] seoul_purpose_admdong4_in_20240923.parquet → 2386 rows\n",
      "[✓] seoul_purpose_admdong4_in_20240924.parquet → 2398 rows\n",
      "[✓] seoul_purpose_admdong4_in_20240925.parquet → 2309 rows\n",
      "[✓] seoul_purpose_admdong4_in_20240926.parquet → 2369 rows\n",
      "[✓] seoul_purpose_admdong4_in_20240927.parquet → 2457 rows\n",
      "[✓] seoul_purpose_admdong4_in_20240928.parquet → 2092 rows\n",
      "[✓] seoul_purpose_admdong4_in_20240929.parquet → 1549 rows\n",
      "[✓] seoul_purpose_admdong4_in_20240930.parquet → 2166 rows\n",
      "[✓] seoul_purpose_admdong4_in_20241001.parquet → 1813 rows\n",
      "[✓] seoul_purpose_admdong4_in_20241002.parquet → 2405 rows\n",
      "[✓] seoul_purpose_admdong4_in_20241003.parquet → 1798 rows\n",
      "[✓] seoul_purpose_admdong4_in_20241004.parquet → 2352 rows\n",
      "[✓] seoul_purpose_admdong4_in_20241005.parquet → 1974 rows\n",
      "[✓] seoul_purpose_admdong4_in_20241006.parquet → 1673 rows\n",
      "[✓] seoul_purpose_admdong4_in_20241007.parquet → 2370 rows\n",
      "[✓] seoul_purpose_admdong4_in_20241008.parquet → 2412 rows\n",
      "[✓] seoul_purpose_admdong4_in_20241009.parquet → 1744 rows\n",
      "[✓] seoul_purpose_admdong4_in_20241010.parquet → 2359 rows\n",
      "[✓] seoul_purpose_admdong4_in_20241011.parquet → 2385 rows\n",
      "[✓] seoul_purpose_admdong4_in_20241012.parquet → 2042 rows\n",
      "[✓] seoul_purpose_admdong4_in_20241013.parquet → 1734 rows\n",
      "[✓] seoul_purpose_admdong4_in_20241014.parquet → 2318 rows\n",
      "[✓] seoul_purpose_admdong4_in_20241015.parquet → 2361 rows\n",
      "[✓] seoul_purpose_admdong4_in_20241016.parquet → 2336 rows\n",
      "[✓] seoul_purpose_admdong4_in_20241017.parquet → 2298 rows\n",
      "[✓] seoul_purpose_admdong4_in_20241018.parquet → 2313 rows\n",
      "[✓] seoul_purpose_admdong4_in_20241019.parquet → 2142 rows\n",
      "[✓] seoul_purpose_admdong4_in_20241020.parquet → 1798 rows\n",
      "[✓] seoul_purpose_admdong4_in_20241021.parquet → 2325 rows\n",
      "[✓] seoul_purpose_admdong4_in_20241022.parquet → 2234 rows\n",
      "[✓] seoul_purpose_admdong4_in_20241023.parquet → 2364 rows\n",
      "[✓] seoul_purpose_admdong4_in_20241024.parquet → 2339 rows\n",
      "[✓] seoul_purpose_admdong4_in_20241025.parquet → 2414 rows\n",
      "[✓] seoul_purpose_admdong4_in_20241026.parquet → 2136 rows\n",
      "[✓] seoul_purpose_admdong4_in_20241027.parquet → 1693 rows\n",
      "[✓] seoul_purpose_admdong4_in_20241028.parquet → 2340 rows\n",
      "[✓] seoul_purpose_admdong4_in_20241029.parquet → 2361 rows\n",
      "[✓] seoul_purpose_admdong4_in_20241030.parquet → 2388 rows\n",
      "[✓] seoul_purpose_admdong4_in_20241031.parquet → 2359 rows\n",
      "[✓] seoul_purpose_admdong4_in_20241101.parquet → 2440 rows\n",
      "[✓] seoul_purpose_admdong4_in_20241102.parquet → 2120 rows\n",
      "[✓] seoul_purpose_admdong4_in_20241103.parquet → 1817 rows\n",
      "[✓] seoul_purpose_admdong4_in_20241104.parquet → 2338 rows\n",
      "[✓] seoul_purpose_admdong4_in_20241105.parquet → 2358 rows\n",
      "[✓] seoul_purpose_admdong4_in_20241106.parquet → 2310 rows\n",
      "[✓] seoul_purpose_admdong4_in_20241107.parquet → 2376 rows\n",
      "[✓] seoul_purpose_admdong4_in_20241108.parquet → 2452 rows\n",
      "[✓] seoul_purpose_admdong4_in_20241109.parquet → 2076 rows\n",
      "[✓] seoul_purpose_admdong4_in_20241110.parquet → 1780 rows\n",
      "[✓] seoul_purpose_admdong4_in_20241111.parquet → 2336 rows\n",
      "[✓] seoul_purpose_admdong4_in_20241112.parquet → 2397 rows\n",
      "[✓] seoul_purpose_admdong4_in_20241113.parquet → 2363 rows\n",
      "[✓] seoul_purpose_admdong4_in_20241114.parquet → 2324 rows\n",
      "[✓] seoul_purpose_admdong4_in_20241115.parquet → 2448 rows\n",
      "[✓] seoul_purpose_admdong4_in_20241116.parquet → 2031 rows\n",
      "[✓] seoul_purpose_admdong4_in_20241117.parquet → 1751 rows\n",
      "[✓] seoul_purpose_admdong4_in_20241118.parquet → 2270 rows\n",
      "[✓] seoul_purpose_admdong4_in_20241119.parquet → 2359 rows\n",
      "[✓] seoul_purpose_admdong4_in_20241120.parquet → 2292 rows\n",
      "[✓] seoul_purpose_admdong4_in_20241121.parquet → 2324 rows\n",
      "[✓] seoul_purpose_admdong4_in_20241122.parquet → 2375 rows\n",
      "[✓] seoul_purpose_admdong4_in_20241123.parquet → 2131 rows\n",
      "[✓] seoul_purpose_admdong4_in_20241124.parquet → 1703 rows\n",
      "[✓] seoul_purpose_admdong4_in_20241125.parquet → 2318 rows\n",
      "[✓] seoul_purpose_admdong4_in_20241126.parquet → 2256 rows\n",
      "[✓] seoul_purpose_admdong4_in_20241127.parquet → 2079 rows\n",
      "[✓] seoul_purpose_admdong4_in_20241128.parquet → 1967 rows\n",
      "[✓] seoul_purpose_admdong4_in_20241129.parquet → 2299 rows\n",
      "[✓] seoul_purpose_admdong4_in_20241130.parquet → 1983 rows\n",
      "[✓] seoul_purpose_admdong4_in_20241205.parquet → 2246 rows\n",
      "[✓] seoul_purpose_admdong4_in_20241208.parquet → 1618 rows\n",
      "[✓] seoul_purpose_admdong4_in_20241212.parquet → 2251 rows\n",
      "[✓] seoul_purpose_admdong4_in_20241214.parquet → 1887 rows\n",
      "[✓] seoul_purpose_admdong4_in_20241215.parquet → 1692 rows\n",
      "[✓] seoul_purpose_admdong4_in_20241218.parquet → 2309 rows\n",
      "[✓] seoul_purpose_admdong4_in_20241219.parquet → 2264 rows\n",
      "[✓] seoul_purpose_admdong4_in_20241221.parquet → 1919 rows\n",
      "[✓] seoul_purpose_admdong4_in_20241222.parquet → 1629 rows\n",
      "[✓] seoul_purpose_admdong4_in_20241227.parquet → 2333 rows\n",
      "[✓] seoul_purpose_admdong4_in_20241228.parquet → 1828 rows\n",
      "\n",
      "✅ 총 남향동 출발 행 수: 347675\n"
     ]
    }
   ],
   "source": [
    "# 1. 일단 출발지가 난향동인 애들만 빼기\n",
    "\n",
    "import os\n",
    "import pandas as pd\n",
    "from glob import glob\n",
    "\n",
    "# parquet들이 들어있는 폴더\n",
    "parquet_dir = \"/Users/Star1/Desktop/2025/2025여름/수도권_해커톤/2.1열린데이터광장/parquets\"\n",
    "files = sorted(glob(os.path.join(parquet_dir, \"*.parquet\")))\n",
    "\n",
    "# 조건\n",
    "O_TARGET = 11620715\n",
    "D_TARGET = 11710690\n",
    "\n",
    "filtered=[]\n",
    "\n",
    "for file in files:\n",
    "    try:\n",
    "        df = pd.read_parquet(file)\n",
    "        df = df[df[\"o_admdong_cd\"] == O_TARGET]  # 출발지 필터만 적용\n",
    "        if not df.empty:\n",
    "            filtered.append(df)\n",
    "            print(f\"[✓] {os.path.basename(file)} → {len(df)} rows\")\n",
    "        else:\n",
    "            print(f\"[ ] {os.path.basename(file)} → no match\")\n",
    "    except Exception as e:\n",
    "        print(f\"[ERROR] {os.path.basename(file)} → {e}\")\n",
    "\n",
    "# 최종 병합\n",
    "if filtered:\n",
    "    df_namhyang = pd.concat(filtered, ignore_index=True)\n",
    "    print(f\"\\n✅ 총 남향동 출발 행 수: {len(df_namhyang)}\")\n",
    "\n",
    "    # 저장 (선택)\n",
    "    df_namhyang.to_parquet(\"남향동_출발_전체.parquet\", index=False)\n",
    "else:\n",
    "    print(\"\\n⚠️ 남향동 출발 데이터 없음\")"
   ]
  },
  {
   "cell_type": "code",
   "execution_count": null,
   "id": "7af994be",
   "metadata": {},
   "outputs": [
    {
     "name": "stdout",
     "output_type": "stream",
     "text": [
      "📌 전체 컬럼:\n",
      "['o_admdong_cd', 'd_admdong_cd', 'st_time_cd', 'fns_time_cd', 'move_dist', 'move_time', '0010_cnt', '2030_cnt', '4050_cnt', '60plus_cnt', 'total_cnt', 'etl_ymd']\n",
      "\n",
      "📌 상위 10개 행:\n",
      "   o_admdong_cd  d_admdong_cd  st_time_cd  fns_time_cd  move_dist  move_time  \\\n",
      "0    11620715.0    11620745.0        1800         1820     1267.0        6.0   \n",
      "1    11620715.0    11500593.0         720          840     9628.0       63.0   \n",
      "2    11620715.0    11545680.0          14           14     1175.0        7.0   \n",
      "3    11620715.0    11620775.0           6          720     1054.0       54.0   \n",
      "4    11620715.0    11530540.0          13           14     2512.0       27.0   \n",
      "5    11620715.0    11620695.0          16           16     2920.0       25.0   \n",
      "6    11620715.0    41210631.0           3            4     3553.0       26.0   \n",
      "7    11620715.0    11620745.0           4            4      300.0        7.0   \n",
      "8    11620715.0    11650651.0         840          920    10694.0       40.0   \n",
      "9    11620715.0    11590670.0         720          740     3019.0       15.0   \n",
      "\n",
      "   0010_cnt  2030_cnt  4050_cnt  60plus_cnt  total_cnt   etl_ymd  \n",
      "0      0.00      2.42      1.30        3.55       7.28  20240701  \n",
      "1      0.00      3.43      0.00        0.00       3.43  20240701  \n",
      "2      9.00      0.00      0.00        0.00       9.00  20240701  \n",
      "3      4.17      0.00      0.00        0.00       4.17  20240701  \n",
      "4      2.76      0.00      0.00        0.00       2.76  20240701  \n",
      "5      4.17      3.50      3.38        0.00      11.05  20240701  \n",
      "6      0.00      0.00      3.88        0.00       3.88  20240701  \n",
      "7      0.00      2.78      0.00        0.00       2.78  20240701  \n",
      "8      0.00      3.26      0.00        0.00       3.26  20240701  \n",
      "9      0.00      3.43      7.12        3.83      14.37  20240701  \n"
     ]
    }
   ],
   "source": [
    "# 1-1. 합쳐진 남향동 출발파일 확인하기\n",
    "import pandas as pd\n",
    "\n",
    "# 파일 경로 지정\n",
    "file_path = \"/Users/Star1/Desktop/2025/2025여름/수도권_해커톤/2.1열린데이터광장/남향동_출발_전체.parquet\"\n",
    "\n",
    "df = pd.read_parquet(file_path)\n",
    "\n",
    "# 전체 컬럼명 출력\n",
    "print(\"📌 전체 컬럼:\")\n",
    "print(df.columns.tolist())\n",
    "\n",
    "# 일부 행 미리보기 (앞 5개)\n",
    "print(\"\\n📌 상위 10개 행:\")\n",
    "print(df.head(10))\n"
   ]
  },
  {
   "cell_type": "code",
   "execution_count": null,
   "id": "deb96089",
   "metadata": {},
   "outputs": [
    {
     "name": "stdout",
     "output_type": "stream",
     "text": [
      "    hour  total_cnt\n",
      "0      0    5439.10\n",
      "1      1   10991.09\n",
      "2      2    7815.24\n",
      "3      3   11141.51\n",
      "4      4   19941.53\n",
      "5      5   51357.66\n",
      "6      6  120354.63\n",
      "7      7  237932.55\n",
      "8      8  230140.66\n",
      "9      9  154861.50\n",
      "10    10  137200.95\n",
      "11    11  117906.05\n",
      "12    12  116554.14\n",
      "13    13  107264.40\n",
      "14    14  101427.03\n",
      "15    15   96378.12\n",
      "16    16   98959.66\n",
      "17    17   89226.26\n",
      "18    18   78078.32\n",
      "19    19   57651.37\n",
      "20    20   44109.83\n",
      "21    21   38367.47\n",
      "22    22   27185.06\n",
      "23    23    6899.40\n"
     ]
    }
   ],
   "source": [
    "# 1-2. 합쳐진 남향동 시간대별 유출인ㅇ구 확인\n",
    "\n",
    "\n",
    "# 정수형 변환\n",
    "df[\"st_time_cd\"] = df[\"st_time_cd\"].astype(int)\n",
    "\n",
    "# 시(hour) 단위 추출\n",
    "def extract_hour(x):\n",
    "    if x >= 100:\n",
    "        return x // 100\n",
    "    else:\n",
    "        return x\n",
    "\n",
    "df[\"hour\"] = df[\"st_time_cd\"].apply(extract_hour)\n",
    "\n",
    "# 시각별 유출 인구 합산\n",
    "hourly = (\n",
    "    df.groupby(\"hour\")[\"total_cnt\"]\n",
    "    .sum()\n",
    "    .reset_index()\n",
    "    .sort_values(\"hour\")\n",
    ")\n",
    "\n",
    "# 출력\n",
    "print(hourly)\n",
    "\n"
   ]
  },
  {
   "cell_type": "code",
   "execution_count": null,
   "id": "ce9a6a3f",
   "metadata": {},
   "outputs": [],
   "source": [
    "# 시간대쓰지말고 유출입만"
   ]
  },
  {
   "cell_type": "code",
   "execution_count": null,
   "id": "98560f78",
   "metadata": {},
   "outputs": [
    {
     "name": "stdout",
     "output_type": "stream",
     "text": [
      "✅ 남향동 출발 (07~09시) → 도착지 Top 4 및 월평균 유출 인구:\n",
      "     d_admdong_cd  total_cnt  monthly_avg_cnt\n",
      "320    11620715.0   55656.64      9276.106667\n",
      "325    11620775.0   32281.90      5380.316667\n",
      "324    11620765.0   20223.17      3370.528333\n",
      "322    11620735.0   16966.65      2827.775000\n"
     ]
    },
    {
     "name": "stderr",
     "output_type": "stream",
     "text": [
      "/var/folders/34/nfsz0w6s5rl3lqtq7z6j5p_h0000gp/T/ipykernel_39918/4020631722.py:12: SettingWithCopyWarning: \n",
      "A value is trying to be set on a copy of a slice from a DataFrame.\n",
      "Try using .loc[row_indexer,col_indexer] = value instead\n",
      "\n",
      "See the caveats in the documentation: https://pandas.pydata.org/pandas-docs/stable/user_guide/indexing.html#returning-a-view-versus-a-copy\n",
      "  df_filtered[\"month\"] = df_filtered[\"etl_ymd\"].dt.to_period(\"M\")\n"
     ]
    }
   ],
   "source": [
    "# 1-3. 합쳐진 남향동 유출인구 top4 그리고 월평균 수\n",
    "\n",
    "\n",
    "import pandas as pd\n",
    "\n",
    "df = pd.read_parquet(\"남향동_출발_전체.parquet\")\n",
    "df[\"st_time_cd\"] = df[\"st_time_cd\"].astype(int)\n",
    "df[\"etl_ymd\"] = pd.to_datetime(df[\"etl_ymd\"].astype(str))\n",
    "\n",
    "# 07:00~09:59 필터\n",
    "valid_times = list(range(700, 920, 20))\n",
    "df_filtered = df[df[\"st_time_cd\"].isin(valid_times)]\n",
    "\n",
    "# 월 단위 컬럼 추가\n",
    "df_filtered[\"month\"] = df_filtered[\"etl_ymd\"].dt.to_period(\"M\")\n",
    "\n",
    "# 도착지별 월별 총 유출량\n",
    "monthly = (\n",
    "    df_filtered\n",
    "    .groupby([\"d_admdong_cd\", \"month\"])[\"total_cnt\"]\n",
    "    .sum()\n",
    "    .reset_index()\n",
    ")\n",
    "\n",
    "# 도착지별 월평균 유출량 계산\n",
    "monthly_avg = (\n",
    "    monthly\n",
    "    .groupby(\"d_admdong_cd\")[\"total_cnt\"]\n",
    "    .mean()\n",
    "    .reset_index()\n",
    "    .rename(columns={\"total_cnt\": \"monthly_avg_cnt\"})\n",
    ")\n",
    "\n",
    "# 도착지별 전체 총합도 같이 구함\n",
    "total_sum = (\n",
    "    df_filtered\n",
    "    .groupby(\"d_admdong_cd\")[\"total_cnt\"]\n",
    "    .sum()\n",
    "    .reset_index()\n",
    "    .rename(columns={\"total_cnt\": \"total_cnt\"})\n",
    ")\n",
    "\n",
    "# 합치기\n",
    "result = pd.merge(total_sum, monthly_avg, on=\"d_admdong_cd\")\n",
    "\n",
    "# 상위 3개 출력\n",
    "top3 = result.sort_values(\"total_cnt\", ascending=False).head(4)\n",
    "\n",
    "print(\"✅ 남향동 출발 (07~09시) → 도착지 Top 4 및 월평균 유출 인구:\")\n",
    "print(top3)\n"
   ]
  },
  {
   "cell_type": "code",
   "execution_count": 42,
   "id": "ebfbfbb1",
   "metadata": {},
   "outputs": [
    {
     "name": "stdout",
     "output_type": "stream",
     "text": [
      "✅ 도착지별 이동시간 통계 요약 (단위: 분):\n",
      "   d_admdong_cd  count       mean  median    q1    q3  min     max\n",
      "0    11620735.0   7070  36.382109    19.0  11.0  37.0  0.0   914.0\n",
      "1    11620765.0  10271  38.961376    17.0   9.0  36.0  0.0  1078.0\n",
      "2    11620775.0  12276  44.946627    13.0   5.0  43.0  0.0   886.0\n"
     ]
    }
   ],
   "source": [
    "# 1-3. 합쳐진 남향동 유출인구 top4 평균(중앙값) 이동시간\n",
    "\n",
    "# 도착지 top3 → 리스트로\n",
    "top3_dests = [11620775.0, 11620765.0, 11620735.0]\n",
    "\n",
    "# 해당 도착지들만 필터링\n",
    "df_top3 = df[df[\"d_admdong_cd\"].isin(top3_dests)]\n",
    "\n",
    "\n",
    "# 통계 요약\n",
    "move_time_stats = (\n",
    "    df_top3\n",
    "    .groupby(\"d_admdong_cd\")[\"move_time\"]\n",
    "    .agg(\n",
    "        count=\"count\",\n",
    "        mean=\"mean\",\n",
    "        median=\"median\",\n",
    "        q1=lambda x: x.quantile(0.25),\n",
    "        q3=lambda x: x.quantile(0.75),\n",
    "        min=\"min\",\n",
    "        max=\"max\"\n",
    "    )\n",
    "    .reset_index()\n",
    ")\n",
    "\n",
    "# 결과 보기\n",
    "print(\"✅ 도착지별 이동시간 통계 요약 (단위: 분):\")\n",
    "print(move_time_stats)\n"
   ]
  },
  {
   "cell_type": "code",
   "execution_count": 44,
   "id": "bae21406",
   "metadata": {},
   "outputs": [
    {
     "name": "stdout",
     "output_type": "stream",
     "text": [
      "✅ 도착지 Top 4 기준 월평균 유출 인구 (연령대별):\n",
      "   d_admdong_cd  0010_cnt_ratio  2030_cnt_ratio  4050_cnt_ratio  \\\n",
      "0    11620735.0        0.256776        0.251843        0.311657   \n",
      "1    11620745.0        0.466585        0.047833        0.209852   \n",
      "2    11620765.0        0.246506        0.098919        0.383330   \n",
      "3    11620775.0        0.461556        0.098180        0.260766   \n",
      "\n",
      "   60plus_cnt_ratio  \n",
      "0          0.179744  \n",
      "1          0.275730  \n",
      "2          0.271232  \n",
      "3          0.179506  \n"
     ]
    }
   ],
   "source": [
    "# 1. 도착지 Top 4 리스트\n",
    "top4_dests = [11620775.0, 11620765.0, 11620735.0, 11620745.0]\n",
    "\n",
    "# 2. 필터링\n",
    "df_top = df_filtered[df_filtered[\"d_admdong_cd\"].isin(top4_dests)].copy()\n",
    "\n",
    "# 3. 월 컬럼 생성\n",
    "df_top[\"month\"] = df_top[\"etl_ymd\"].dt.to_period(\"M\")\n",
    "\n",
    "# 4. 연령대 컬럼\n",
    "age_cols = [\"0010_cnt\", \"2030_cnt\", \"4050_cnt\", \"60plus_cnt\", \"total_cnt\"]\n",
    "\n",
    "# 5. 월별 합계\n",
    "monthly_age = (\n",
    "    df_top\n",
    "    .groupby([\"d_admdong_cd\", \"month\"])[age_cols]\n",
    "    .sum()\n",
    "    .reset_index()\n",
    ")\n",
    "\n",
    "# 6. 월평균 계산\n",
    "monthly_avg_age = (\n",
    "    monthly_age\n",
    "    .groupby(\"d_admdong_cd\")[age_cols]\n",
    "    .mean()\n",
    "    .reset_index()\n",
    ")\n",
    "\n",
    "# 7. 비율 계산\n",
    "for col in [\"0010_cnt\", \"2030_cnt\", \"4050_cnt\", \"60plus_cnt\"]:\n",
    "    monthly_avg_age[f\"{col}_ratio\"] = monthly_avg_age[col] / monthly_avg_age[\"total_cnt\"]\n",
    "\n",
    "# 8. 출력\n",
    "\n",
    "age_ratio_cols = [\n",
    "    \"d_admdong_cd\",\n",
    "    \"0010_cnt_ratio\", \"2030_cnt_ratio\",\n",
    "    \"4050_cnt_ratio\", \"60plus_cnt_ratio\"\n",
    "]\n",
    "\n",
    "print(\"✅ 도착지 Top 4 기준 월평균 유출 인구 (연령대별):\")\n",
    "print(monthly_avg_age[age_ratio_cols])\n"
   ]
  },
  {
   "cell_type": "code",
   "execution_count": null,
   "id": "889ff297",
   "metadata": {},
   "outputs": [],
   "source": []
  },
  {
   "cell_type": "code",
   "execution_count": null,
   "id": "757faf4a",
   "metadata": {},
   "outputs": [],
   "source": []
  }
 ],
 "metadata": {
  "kernelspec": {
   "display_name": "Python 3",
   "language": "python",
   "name": "python3"
  },
  "language_info": {
   "codemirror_mode": {
    "name": "ipython",
    "version": 3
   },
   "file_extension": ".py",
   "mimetype": "text/x-python",
   "name": "python",
   "nbconvert_exporter": "python",
   "pygments_lexer": "ipython3",
   "version": "3.12.11"
  }
 },
 "nbformat": 4,
 "nbformat_minor": 5
}
