{
 "cells": [
  {
   "cell_type": "markdown",
   "id": "be8492a6",
   "metadata": {},
   "source": [
    "11620715:난향동\n",
    "11710690:잠실4동"
   ]
  },
  {
   "cell_type": "code",
   "execution_count": null,
   "id": "75494938",
   "metadata": {},
   "outputs": [],
   "source": []
  },
  {
   "cell_type": "code",
   "execution_count": 10,
   "id": "7793ce3b",
   "metadata": {},
   "outputs": [
    {
     "name": "stderr",
     "output_type": "stream",
     "text": [
      "/var/folders/34/nfsz0w6s5rl3lqtq7z6j5p_h0000gp/T/ipykernel_39918/831574403.py:27: DtypeWarning: Columns (1) have mixed types. Specify dtype option on import or set low_memory=False.\n",
      "  df = pd.read_csv(csvfile, encoding=\"utf-8\")  # 혹시 깨지면 cp949 시도\n"
     ]
    },
    {
     "name": "stdout",
     "output_type": "stream",
     "text": [
      "[ERROR] seoul_purpose_admdong4_in_20241216.zip: (\"Could not convert '28245614' with type str: tried to convert to double\", 'Conversion failed for column d_admdong_cd with type object')\n"
     ]
    },
    {
     "name": "stderr",
     "output_type": "stream",
     "text": [
      "/var/folders/34/nfsz0w6s5rl3lqtq7z6j5p_h0000gp/T/ipykernel_39918/831574403.py:27: DtypeWarning: Columns (1) have mixed types. Specify dtype option on import or set low_memory=False.\n",
      "  df = pd.read_csv(csvfile, encoding=\"utf-8\")  # 혹시 깨지면 cp949 시도\n"
     ]
    },
    {
     "name": "stdout",
     "output_type": "stream",
     "text": [
      "[ERROR] seoul_purpose_admdong4_in_20241202.zip: (\"Could not convert '51730350' with type str: tried to convert to double\", 'Conversion failed for column d_admdong_cd with type object')\n",
      "[SKIP] 이미 존재: seoul_purpose_admdong4_in_20241028.parquet\n",
      "[SKIP] 이미 존재: seoul_purpose_admdong4_in_20241014.parquet\n",
      "[OK] 변환 완료: seoul_purpose_admdong4_in_20240726.parquet\n",
      "[OK] 변환 완료: seoul_purpose_admdong4_in_20240929.parquet\n",
      "[OK] 변환 완료: seoul_purpose_admdong4_in_20240901.parquet\n",
      "[OK] 변환 완료: seoul_purpose_admdong4_in_20240915.parquet\n",
      "[OK] 변환 완료: seoul_purpose_admdong4_in_20240914.parquet\n",
      "[OK] 변환 완료: seoul_purpose_admdong4_in_20240928.parquet\n",
      "[OK] 변환 완료: seoul_purpose_admdong4_in_20240727.parquet\n",
      "[SKIP] 이미 존재: seoul_purpose_admdong4_in_20241001.parquet\n",
      "[SKIP] 이미 존재: seoul_purpose_admdong4_in_20241015.parquet\n",
      "[SKIP] 이미 존재: seoul_purpose_admdong4_in_20241029.parquet\n"
     ]
    },
    {
     "name": "stderr",
     "output_type": "stream",
     "text": [
      "/var/folders/34/nfsz0w6s5rl3lqtq7z6j5p_h0000gp/T/ipykernel_39918/831574403.py:27: DtypeWarning: Columns (1) have mixed types. Specify dtype option on import or set low_memory=False.\n",
      "  df = pd.read_csv(csvfile, encoding=\"utf-8\")  # 혹시 깨지면 cp949 시도\n"
     ]
    },
    {
     "name": "stdout",
     "output_type": "stream",
     "text": [
      "[ERROR] seoul_purpose_admdong4_in_20241203.zip: (\"Could not convert '11380552' with type str: tried to convert to double\", 'Conversion failed for column d_admdong_cd with type object')\n"
     ]
    },
    {
     "name": "stderr",
     "output_type": "stream",
     "text": [
      "/var/folders/34/nfsz0w6s5rl3lqtq7z6j5p_h0000gp/T/ipykernel_39918/831574403.py:27: DtypeWarning: Columns (1) have mixed types. Specify dtype option on import or set low_memory=False.\n",
      "  df = pd.read_csv(csvfile, encoding=\"utf-8\")  # 혹시 깨지면 cp949 시도\n"
     ]
    },
    {
     "name": "stdout",
     "output_type": "stream",
     "text": [
      "[ERROR] seoul_purpose_admdong4_in_20241217.zip: (\"Could not convert '28110628' with type str: tried to convert to double\", 'Conversion failed for column d_admdong_cd with type object')\n"
     ]
    },
    {
     "name": "stderr",
     "output_type": "stream",
     "text": [
      "/var/folders/34/nfsz0w6s5rl3lqtq7z6j5p_h0000gp/T/ipykernel_39918/831574403.py:27: DtypeWarning: Columns (1) have mixed types. Specify dtype option on import or set low_memory=False.\n",
      "  df = pd.read_csv(csvfile, encoding=\"utf-8\")  # 혹시 깨지면 cp949 시도\n"
     ]
    },
    {
     "name": "stdout",
     "output_type": "stream",
     "text": [
      "[ERROR] seoul_purpose_admdong4_in_20241229.zip: (\"Could not convert '41450585' with type str: tried to convert to double\", 'Conversion failed for column d_admdong_cd with type object')\n"
     ]
    },
    {
     "name": "stderr",
     "output_type": "stream",
     "text": [
      "/var/folders/34/nfsz0w6s5rl3lqtq7z6j5p_h0000gp/T/ipykernel_39918/831574403.py:27: DtypeWarning: Columns (1) have mixed types. Specify dtype option on import or set low_memory=False.\n",
      "  df = pd.read_csv(csvfile, encoding=\"utf-8\")  # 혹시 깨지면 cp949 시도\n"
     ]
    },
    {
     "name": "stdout",
     "output_type": "stream",
     "text": [
      "[ERROR] seoul_purpose_admdong4_in_20241201.zip: (\"Could not convert '11380690' with type str: tried to convert to double\", 'Conversion failed for column d_admdong_cd with type object')\n",
      "[OK] 변환 완료: seoul_purpose_admdong4_in_20241215.parquet\n",
      "[SKIP] 이미 존재: seoul_purpose_admdong4_in_20241003.parquet\n",
      "[SKIP] 이미 존재: seoul_purpose_admdong4_in_20241017.parquet\n",
      "[OK] 변환 완료: seoul_purpose_admdong4_in_20240731.parquet\n",
      "[OK] 변환 완료: seoul_purpose_admdong4_in_20240725.parquet\n",
      "[OK] 변환 완료: seoul_purpose_admdong4_in_20240719.parquet\n",
      "[OK] 변환 완료: seoul_purpose_admdong4_in_20240916.parquet\n",
      "[OK] 변환 완료: seoul_purpose_admdong4_in_20240902.parquet\n",
      "[OK] 변환 완료: seoul_purpose_admdong4_in_20240903.parquet\n",
      "[OK] 변환 완료: seoul_purpose_admdong4_in_20240917.parquet\n",
      "[OK] 변환 완료: seoul_purpose_admdong4_in_20240718.parquet\n",
      "[OK] 변환 완료: seoul_purpose_admdong4_in_20240724.parquet\n",
      "[OK] 변환 완료: seoul_purpose_admdong4_in_20240730.parquet\n",
      "[SKIP] 이미 존재: seoul_purpose_admdong4_in_20241016.parquet\n",
      "[SKIP] 이미 존재: seoul_purpose_admdong4_in_20241002.parquet\n",
      "[OK] 변환 완료: seoul_purpose_admdong4_in_20241214.parquet\n",
      "[OK] 변환 완료: seoul_purpose_admdong4_in_20241228.parquet\n"
     ]
    },
    {
     "name": "stderr",
     "output_type": "stream",
     "text": [
      "/var/folders/34/nfsz0w6s5rl3lqtq7z6j5p_h0000gp/T/ipykernel_39918/831574403.py:27: DtypeWarning: Columns (1) have mixed types. Specify dtype option on import or set low_memory=False.\n",
      "  df = pd.read_csv(csvfile, encoding=\"utf-8\")  # 혹시 깨지면 cp949 시도\n"
     ]
    },
    {
     "name": "stdout",
     "output_type": "stream",
     "text": [
      "[ERROR] seoul_purpose_admdong4_in_20241204.zip: (\"Could not convert '28245613' with type str: tried to convert to double\", 'Conversion failed for column d_admdong_cd with type object')\n"
     ]
    },
    {
     "name": "stderr",
     "output_type": "stream",
     "text": [
      "/var/folders/34/nfsz0w6s5rl3lqtq7z6j5p_h0000gp/T/ipykernel_39918/831574403.py:27: DtypeWarning: Columns (0,1) have mixed types. Specify dtype option on import or set low_memory=False.\n",
      "  df = pd.read_csv(csvfile, encoding=\"utf-8\")  # 혹시 깨지면 cp949 시도\n"
     ]
    },
    {
     "name": "stdout",
     "output_type": "stream",
     "text": [
      "[ERROR] seoul_purpose_admdong4_in_20241210.zip: (\"Could not convert '11560540' with type str: tried to convert to double\", 'Conversion failed for column o_admdong_cd with type object')\n",
      "[SKIP] 이미 존재: seoul_purpose_admdong4_in_20241006.parquet\n",
      "[SKIP] 이미 존재: seoul_purpose_admdong4_in_20241012.parquet\n",
      "[OK] 변환 완료: seoul_purpose_admdong4_in_20240708.parquet\n",
      "[OK] 변환 완료: seoul_purpose_admdong4_in_20240720.parquet\n",
      "[OK] 변환 완료: seoul_purpose_admdong4_in_20240913.parquet\n",
      "[OK] 변환 완료: seoul_purpose_admdong4_in_20240907.parquet\n",
      "[OK] 변환 완료: seoul_purpose_admdong4_in_20240906.parquet\n",
      "[OK] 변환 완료: seoul_purpose_admdong4_in_20240912.parquet\n",
      "[OK] 변환 완료: seoul_purpose_admdong4_in_20240721.parquet\n",
      "[OK] 변환 완료: seoul_purpose_admdong4_in_20240709.parquet\n",
      "[SKIP] 이미 존재: seoul_purpose_admdong4_in_20241013.parquet\n",
      "[SKIP] 이미 존재: seoul_purpose_admdong4_in_20241007.parquet\n"
     ]
    },
    {
     "name": "stderr",
     "output_type": "stream",
     "text": [
      "/var/folders/34/nfsz0w6s5rl3lqtq7z6j5p_h0000gp/T/ipykernel_39918/831574403.py:27: DtypeWarning: Columns (0,1) have mixed types. Specify dtype option on import or set low_memory=False.\n",
      "  df = pd.read_csv(csvfile, encoding=\"utf-8\")  # 혹시 깨지면 cp949 시도\n"
     ]
    },
    {
     "name": "stdout",
     "output_type": "stream",
     "text": [
      "[ERROR] seoul_purpose_admdong4_in_20241211.zip: (\"Could not convert '41271550' with type str: tried to convert to double\", 'Conversion failed for column o_admdong_cd with type object')\n",
      "[OK] 변환 완료: seoul_purpose_admdong4_in_20241205.parquet\n"
     ]
    },
    {
     "name": "stderr",
     "output_type": "stream",
     "text": [
      "/var/folders/34/nfsz0w6s5rl3lqtq7z6j5p_h0000gp/T/ipykernel_39918/831574403.py:27: DtypeWarning: Columns (1) have mixed types. Specify dtype option on import or set low_memory=False.\n",
      "  df = pd.read_csv(csvfile, encoding=\"utf-8\")  # 혹시 깨지면 cp949 시도\n"
     ]
    },
    {
     "name": "stdout",
     "output_type": "stream",
     "text": [
      "[ERROR] seoul_purpose_admdong4_in_20241213.zip: (\"Could not convert '41463550' with type str: tried to convert to double\", 'Conversion failed for column d_admdong_cd with type object')\n"
     ]
    },
    {
     "name": "stderr",
     "output_type": "stream",
     "text": [
      "/var/folders/34/nfsz0w6s5rl3lqtq7z6j5p_h0000gp/T/ipykernel_39918/831574403.py:27: DtypeWarning: Columns (1) have mixed types. Specify dtype option on import or set low_memory=False.\n",
      "  df = pd.read_csv(csvfile, encoding=\"utf-8\")  # 혹시 깨지면 cp949 시도\n"
     ]
    },
    {
     "name": "stdout",
     "output_type": "stream",
     "text": [
      "[ERROR] seoul_purpose_admdong4_in_20241207.zip: (\"Could not convert '41281580' with type str: tried to convert to int64\", 'Conversion failed for column d_admdong_cd with type object')\n",
      "[SKIP] 이미 존재: seoul_purpose_admdong4_in_20241011.parquet\n",
      "[SKIP] 이미 존재: seoul_purpose_admdong4_in_20241005.parquet\n",
      "[OK] 변환 완료: seoul_purpose_admdong4_in_20240723.parquet\n",
      "[OK] 변환 완료: seoul_purpose_admdong4_in_20240904.parquet\n",
      "[OK] 변환 완료: seoul_purpose_admdong4_in_20240910.parquet\n",
      "[OK] 변환 완료: seoul_purpose_admdong4_in_20240911.parquet\n",
      "[OK] 변환 완료: seoul_purpose_admdong4_in_20240905.parquet\n",
      "[OK] 변환 완료: seoul_purpose_admdong4_in_20240722.parquet\n",
      "[SKIP] 이미 존재: seoul_purpose_admdong4_in_20241004.parquet\n",
      "[SKIP] 이미 존재: seoul_purpose_admdong4_in_20241010.parquet\n"
     ]
    },
    {
     "name": "stderr",
     "output_type": "stream",
     "text": [
      "/var/folders/34/nfsz0w6s5rl3lqtq7z6j5p_h0000gp/T/ipykernel_39918/831574403.py:27: DtypeWarning: Columns (1) have mixed types. Specify dtype option on import or set low_memory=False.\n",
      "  df = pd.read_csv(csvfile, encoding=\"utf-8\")  # 혹시 깨지면 cp949 시도\n"
     ]
    },
    {
     "name": "stdout",
     "output_type": "stream",
     "text": [
      "[ERROR] seoul_purpose_admdong4_in_20241206.zip: (\"Could not convert '41113680' with type str: tried to convert to double\", 'Conversion failed for column d_admdong_cd with type object')\n",
      "[OK] 변환 완료: seoul_purpose_admdong4_in_20241212.parquet\n",
      "[OK] 변환 완료: seoul_purpose_admdong4_in_20240816.parquet\n",
      "[OK] 변환 완료: seoul_purpose_admdong4_in_20240802.parquet\n",
      "[OK] 변환 완료: seoul_purpose_admdong4_in_20241103.parquet\n",
      "[OK] 변환 완료: seoul_purpose_admdong4_in_20241117.parquet\n",
      "[OK] 변환 완료: seoul_purpose_admdong4_in_20241116.parquet\n",
      "[OK] 변환 완료: seoul_purpose_admdong4_in_20241102.parquet\n",
      "[OK] 변환 완료: seoul_purpose_admdong4_in_20240803.parquet\n",
      "[OK] 변환 완료: seoul_purpose_admdong4_in_20240817.parquet\n",
      "[OK] 변환 완료: seoul_purpose_admdong4_in_20240630.parquet\n",
      "[OK] 변환 완료: seoul_purpose_admdong4_in_20240829.parquet\n",
      "[OK] 변환 완료: seoul_purpose_admdong4_in_20240801.parquet\n",
      "[OK] 변환 완료: seoul_purpose_admdong4_in_20240815.parquet\n",
      "[OK] 변환 완료: seoul_purpose_admdong4_in_20241128.parquet\n",
      "[OK] 변환 완료: seoul_purpose_admdong4_in_20241114.parquet\n",
      "[OK] 변환 완료: seoul_purpose_admdong4_in_20241101.parquet\n",
      "[OK] 변환 완료: seoul_purpose_admdong4_in_20241115.parquet\n",
      "[OK] 변환 완료: seoul_purpose_admdong4_in_20241129.parquet\n",
      "[OK] 변환 완료: seoul_purpose_admdong4_in_20240814.parquet\n",
      "[OK] 변환 완료: seoul_purpose_admdong4_in_20240828.parquet\n",
      "[OK] 변환 완료: seoul_purpose_admdong4_in_20240804.parquet\n",
      "[OK] 변환 완료: seoul_purpose_admdong4_in_20240810.parquet\n",
      "[OK] 변환 완료: seoul_purpose_admdong4_in_20241111.parquet\n",
      "[OK] 변환 완료: seoul_purpose_admdong4_in_20241105.parquet\n",
      "[OK] 변환 완료: seoul_purpose_admdong4_in_20241104.parquet\n",
      "[OK] 변환 완료: seoul_purpose_admdong4_in_20241110.parquet\n",
      "[OK] 변환 완료: seoul_purpose_admdong4_in_20240811.parquet\n",
      "[OK] 변환 완료: seoul_purpose_admdong4_in_20240805.parquet\n",
      "[OK] 변환 완료: seoul_purpose_admdong4_in_20240813.parquet\n",
      "[OK] 변환 완료: seoul_purpose_admdong4_in_20240807.parquet\n",
      "[OK] 변환 완료: seoul_purpose_admdong4_in_20241106.parquet\n",
      "[OK] 변환 완료: seoul_purpose_admdong4_in_20241112.parquet\n",
      "[OK] 변환 완료: seoul_purpose_admdong4_in_20241113.parquet\n",
      "[OK] 변환 완료: seoul_purpose_admdong4_in_20241107.parquet\n",
      "[OK] 변환 완료: seoul_purpose_admdong4_in_20240806.parquet\n",
      "[OK] 변환 완료: seoul_purpose_admdong4_in_20240812.parquet\n",
      "[OK] 변환 완료: seoul_purpose_admdong4_in_20240823.parquet\n",
      "[OK] 변환 완료: seoul_purpose_admdong4_in_20241122.parquet\n",
      "[OK] 변환 완료: seoul_purpose_admdong4_in_20241123.parquet\n",
      "[OK] 변환 완료: seoul_purpose_admdong4_in_20240822.parquet\n",
      "[OK] 변환 완료: seoul_purpose_admdong4_in_20240808.parquet\n",
      "[OK] 변환 완료: seoul_purpose_admdong4_in_20240820.parquet\n",
      "[OK] 변환 완료: seoul_purpose_admdong4_in_20241109.parquet\n",
      "[OK] 변환 완료: seoul_purpose_admdong4_in_20241121.parquet\n",
      "[OK] 변환 완료: seoul_purpose_admdong4_in_20241120.parquet\n",
      "[OK] 변환 완료: seoul_purpose_admdong4_in_20241108.parquet\n",
      "[OK] 변환 완료: seoul_purpose_admdong4_in_20240821.parquet\n",
      "[OK] 변환 완료: seoul_purpose_admdong4_in_20240809.parquet\n",
      "[OK] 변환 완료: seoul_purpose_admdong4_in_20240825.parquet\n",
      "[OK] 변환 완료: seoul_purpose_admdong4_in_20240831.parquet\n",
      "[OK] 변환 완료: seoul_purpose_admdong4_in_20240819.parquet\n",
      "[OK] 변환 완료: seoul_purpose_admdong4_in_20241130.parquet\n",
      "[OK] 변환 완료: seoul_purpose_admdong4_in_20241124.parquet\n",
      "[OK] 변환 완료: seoul_purpose_admdong4_in_20241118.parquet\n",
      "[OK] 변환 완료: seoul_purpose_admdong4_in_20241119.parquet\n",
      "[OK] 변환 완료: seoul_purpose_admdong4_in_20241125.parquet\n",
      "[OK] 변환 완료: seoul_purpose_admdong4_in_20240818.parquet\n",
      "[OK] 변환 완료: seoul_purpose_admdong4_in_20240830.parquet\n",
      "[OK] 변환 완료: seoul_purpose_admdong4_in_20240824.parquet\n",
      "[OK] 변환 완료: seoul_purpose_admdong4_in_20240826.parquet\n",
      "[OK] 변환 완료: seoul_purpose_admdong4_in_20241127.parquet\n",
      "[OK] 변환 완료: seoul_purpose_admdong4_in_20241126.parquet\n",
      "[OK] 변환 완료: seoul_purpose_admdong4_in_20240827.parquet\n"
     ]
    },
    {
     "name": "stderr",
     "output_type": "stream",
     "text": [
      "/var/folders/34/nfsz0w6s5rl3lqtq7z6j5p_h0000gp/T/ipykernel_39918/831574403.py:27: DtypeWarning: Columns (1) have mixed types. Specify dtype option on import or set low_memory=False.\n",
      "  df = pd.read_csv(csvfile, encoding=\"utf-8\")  # 혹시 깨지면 cp949 시도\n"
     ]
    },
    {
     "name": "stdout",
     "output_type": "stream",
     "text": [
      "[ERROR] seoul_purpose_admdong4_in_20241223.zip: (\"Could not convert '11560535' with type str: tried to convert to double\", 'Conversion failed for column d_admdong_cd with type object')\n",
      "[SKIP] 이미 존재: seoul_purpose_admdong4_in_20241009.parquet\n",
      "[SKIP] 이미 존재: seoul_purpose_admdong4_in_20241021.parquet\n",
      "[OK] 변환 완료: seoul_purpose_admdong4_in_20240707.parquet\n",
      "[OK] 변환 완료: seoul_purpose_admdong4_in_20240713.parquet\n",
      "[OK] 변환 완료: seoul_purpose_admdong4_in_20240908.parquet\n",
      "[OK] 변환 완료: seoul_purpose_admdong4_in_20240920.parquet\n",
      "[OK] 변환 완료: seoul_purpose_admdong4_in_20240921.parquet\n",
      "[OK] 변환 완료: seoul_purpose_admdong4_in_20240909.parquet\n",
      "[OK] 변환 완료: seoul_purpose_admdong4_in_20240712.parquet\n",
      "[OK] 변환 완료: seoul_purpose_admdong4_in_20240706.parquet\n",
      "[SKIP] 이미 존재: seoul_purpose_admdong4_in_20241020.parquet\n",
      "[SKIP] 이미 존재: seoul_purpose_admdong4_in_20241008.parquet\n",
      "[OK] 변환 완료: seoul_purpose_admdong4_in_20241222.parquet\n",
      "[OK] 변환 완료: seoul_purpose_admdong4_in_20241208.parquet\n"
     ]
    },
    {
     "name": "stderr",
     "output_type": "stream",
     "text": [
      "/var/folders/34/nfsz0w6s5rl3lqtq7z6j5p_h0000gp/T/ipykernel_39918/831574403.py:27: DtypeWarning: Columns (0) have mixed types. Specify dtype option on import or set low_memory=False.\n",
      "  df = pd.read_csv(csvfile, encoding=\"utf-8\")  # 혹시 깨지면 cp949 시도\n"
     ]
    },
    {
     "name": "stdout",
     "output_type": "stream",
     "text": [
      "[ERROR] seoul_purpose_admdong4_in_20241220.zip: (\"Could not convert '11650651' with type str: tried to convert to double\", 'Conversion failed for column o_admdong_cd with type object')\n",
      "[SKIP] 이미 존재: seoul_purpose_admdong4_in_20241022.parquet\n",
      "[OK] 변환 완료: seoul_purpose_admdong4_in_20240710.parquet\n",
      "[OK] 변환 완료: seoul_purpose_admdong4_in_20240923.parquet\n",
      "[OK] 변환 완료: seoul_purpose_admdong4_in_20240922.parquet\n",
      "[OK] 변환 완료: seoul_purpose_admdong4_in_20240705.parquet\n",
      "[OK] 변환 완료: seoul_purpose_admdong4_in_20240711.parquet\n",
      "[SKIP] 이미 존재: seoul_purpose_admdong4_in_20241023.parquet\n",
      "[OK] 변환 완료: seoul_purpose_admdong4_in_20241221.parquet\n"
     ]
    },
    {
     "name": "stderr",
     "output_type": "stream",
     "text": [
      "/var/folders/34/nfsz0w6s5rl3lqtq7z6j5p_h0000gp/T/ipykernel_39918/831574403.py:27: DtypeWarning: Columns (0,1) have mixed types. Specify dtype option on import or set low_memory=False.\n",
      "  df = pd.read_csv(csvfile, encoding=\"utf-8\")  # 혹시 깨지면 cp949 시도\n"
     ]
    },
    {
     "name": "stdout",
     "output_type": "stream",
     "text": [
      "[ERROR] seoul_purpose_admdong4_in_20241209.zip: (\"Could not convert '11305615' with type str: tried to convert to double\", 'Conversion failed for column o_admdong_cd with type object')\n"
     ]
    },
    {
     "name": "stderr",
     "output_type": "stream",
     "text": [
      "/var/folders/34/nfsz0w6s5rl3lqtq7z6j5p_h0000gp/T/ipykernel_39918/831574403.py:27: DtypeWarning: Columns (0,1) have mixed types. Specify dtype option on import or set low_memory=False.\n",
      "  df = pd.read_csv(csvfile, encoding=\"utf-8\")  # 혹시 깨지면 cp949 시도\n"
     ]
    },
    {
     "name": "stdout",
     "output_type": "stream",
     "text": [
      "[ERROR] seoul_purpose_admdong4_in_20241225.zip: (\"Expected bytes, got a 'float' object\", 'Conversion failed for column o_admdong_cd with type object')\n"
     ]
    },
    {
     "name": "stderr",
     "output_type": "stream",
     "text": [
      "/var/folders/34/nfsz0w6s5rl3lqtq7z6j5p_h0000gp/T/ipykernel_39918/831574403.py:27: DtypeWarning: Columns (1) have mixed types. Specify dtype option on import or set low_memory=False.\n",
      "  df = pd.read_csv(csvfile, encoding=\"utf-8\")  # 혹시 깨지면 cp949 시도\n"
     ]
    },
    {
     "name": "stdout",
     "output_type": "stream",
     "text": [
      "[ERROR] seoul_purpose_admdong4_in_20241231.zip: (\"Could not convert '11680580' with type str: tried to convert to double\", 'Conversion failed for column d_admdong_cd with type object')\n",
      "[OK] 변환 완료: seoul_purpose_admdong4_in_20241219.parquet\n",
      "[SKIP] 이미 존재: seoul_purpose_admdong4_in_20241027.parquet\n",
      "[OK] 변환 완료: seoul_purpose_admdong4_in_20240729.parquet\n",
      "[OK] 변환 완료: seoul_purpose_admdong4_in_20240715.parquet\n",
      "[OK] 변환 완료: seoul_purpose_admdong4_in_20240701.parquet\n",
      "[OK] 변환 완료: seoul_purpose_admdong4_in_20240926.parquet\n",
      "[OK] 변환 완료: seoul_purpose_admdong4_in_20240927.parquet\n",
      "[OK] 변환 완료: seoul_purpose_admdong4_in_20240714.parquet\n",
      "[OK] 변환 완료: seoul_purpose_admdong4_in_20240728.parquet\n",
      "[SKIP] 이미 존재: seoul_purpose_admdong4_in_20241026.parquet\n",
      "[OK] 변환 완료: seoul_purpose_admdong4_in_20241218.parquet\n"
     ]
    },
    {
     "name": "stderr",
     "output_type": "stream",
     "text": [
      "/var/folders/34/nfsz0w6s5rl3lqtq7z6j5p_h0000gp/T/ipykernel_39918/831574403.py:27: DtypeWarning: Columns (1) have mixed types. Specify dtype option on import or set low_memory=False.\n",
      "  df = pd.read_csv(csvfile, encoding=\"utf-8\")  # 혹시 깨지면 cp949 시도\n"
     ]
    },
    {
     "name": "stdout",
     "output_type": "stream",
     "text": [
      "[ERROR] seoul_purpose_admdong4_in_20241230.zip: (\"Expected bytes, got a 'int' object\", 'Conversion failed for column d_admdong_cd with type object')\n"
     ]
    },
    {
     "name": "stderr",
     "output_type": "stream",
     "text": [
      "/var/folders/34/nfsz0w6s5rl3lqtq7z6j5p_h0000gp/T/ipykernel_39918/831574403.py:27: DtypeWarning: Columns (1) have mixed types. Specify dtype option on import or set low_memory=False.\n",
      "  df = pd.read_csv(csvfile, encoding=\"utf-8\")  # 혹시 깨지면 cp949 시도\n"
     ]
    },
    {
     "name": "stdout",
     "output_type": "stream",
     "text": [
      "[ERROR] seoul_purpose_admdong4_in_20241224.zip: (\"Could not convert '11680670' with type str: tried to convert to double\", 'Conversion failed for column d_admdong_cd with type object')\n"
     ]
    },
    {
     "name": "stderr",
     "output_type": "stream",
     "text": [
      "/var/folders/34/nfsz0w6s5rl3lqtq7z6j5p_h0000gp/T/ipykernel_39918/831574403.py:27: DtypeWarning: Columns (1) have mixed types. Specify dtype option on import or set low_memory=False.\n",
      "  df = pd.read_csv(csvfile, encoding=\"utf-8\")  # 혹시 깨지면 cp949 시도\n"
     ]
    },
    {
     "name": "stdout",
     "output_type": "stream",
     "text": [
      "[ERROR] seoul_purpose_admdong4_in_20241226.zip: (\"Could not convert '41194550' with type str: tried to convert to double\", 'Conversion failed for column d_admdong_cd with type object')\n",
      "[SKIP] 이미 존재: seoul_purpose_admdong4_in_20241030.parquet\n",
      "[SKIP] 이미 존재: seoul_purpose_admdong4_in_20241024.parquet\n",
      "[SKIP] 이미 존재: seoul_purpose_admdong4_in_20241018.parquet\n",
      "[OK] 변환 완료: seoul_purpose_admdong4_in_20240702.parquet\n",
      "[OK] 변환 완료: seoul_purpose_admdong4_in_20240716.parquet\n",
      "[OK] 변환 완료: seoul_purpose_admdong4_in_20240925.parquet\n",
      "[OK] 변환 완료: seoul_purpose_admdong4_in_20240919.parquet\n",
      "[OK] 변환 완료: seoul_purpose_admdong4_in_20240918.parquet\n",
      "[OK] 변환 완료: seoul_purpose_admdong4_in_20240930.parquet\n",
      "[OK] 변환 완료: seoul_purpose_admdong4_in_20240924.parquet\n",
      "[OK] 변환 완료: seoul_purpose_admdong4_in_20240717.parquet\n",
      "[SKIP] 이미 존재: seoul_purpose_admdong4_in_20241019.parquet\n",
      "[SKIP] 이미 존재: seoul_purpose_admdong4_in_20241025.parquet\n",
      "[SKIP] 이미 존재: seoul_purpose_admdong4_in_20241031.parquet\n",
      "[OK] 변환 완료: seoul_purpose_admdong4_in_20241227.parquet\n",
      "\n",
      "⚠️ 변환 실패 목록:\n",
      "seoul_purpose_admdong4_in_20241216.zip → (\"Could not convert '28245614' with type str: tried to convert to double\", 'Conversion failed for column d_admdong_cd with type object')\n",
      "seoul_purpose_admdong4_in_20241202.zip → (\"Could not convert '51730350' with type str: tried to convert to double\", 'Conversion failed for column d_admdong_cd with type object')\n",
      "seoul_purpose_admdong4_in_20241203.zip → (\"Could not convert '11380552' with type str: tried to convert to double\", 'Conversion failed for column d_admdong_cd with type object')\n",
      "seoul_purpose_admdong4_in_20241217.zip → (\"Could not convert '28110628' with type str: tried to convert to double\", 'Conversion failed for column d_admdong_cd with type object')\n",
      "seoul_purpose_admdong4_in_20241229.zip → (\"Could not convert '41450585' with type str: tried to convert to double\", 'Conversion failed for column d_admdong_cd with type object')\n",
      "seoul_purpose_admdong4_in_20241201.zip → (\"Could not convert '11380690' with type str: tried to convert to double\", 'Conversion failed for column d_admdong_cd with type object')\n",
      "seoul_purpose_admdong4_in_20241204.zip → (\"Could not convert '28245613' with type str: tried to convert to double\", 'Conversion failed for column d_admdong_cd with type object')\n",
      "seoul_purpose_admdong4_in_20241210.zip → (\"Could not convert '11560540' with type str: tried to convert to double\", 'Conversion failed for column o_admdong_cd with type object')\n",
      "seoul_purpose_admdong4_in_20241211.zip → (\"Could not convert '41271550' with type str: tried to convert to double\", 'Conversion failed for column o_admdong_cd with type object')\n",
      "seoul_purpose_admdong4_in_20241213.zip → (\"Could not convert '41463550' with type str: tried to convert to double\", 'Conversion failed for column d_admdong_cd with type object')\n",
      "seoul_purpose_admdong4_in_20241207.zip → (\"Could not convert '41281580' with type str: tried to convert to int64\", 'Conversion failed for column d_admdong_cd with type object')\n",
      "seoul_purpose_admdong4_in_20241206.zip → (\"Could not convert '41113680' with type str: tried to convert to double\", 'Conversion failed for column d_admdong_cd with type object')\n",
      "seoul_purpose_admdong4_in_20241223.zip → (\"Could not convert '11560535' with type str: tried to convert to double\", 'Conversion failed for column d_admdong_cd with type object')\n",
      "seoul_purpose_admdong4_in_20241220.zip → (\"Could not convert '11650651' with type str: tried to convert to double\", 'Conversion failed for column o_admdong_cd with type object')\n",
      "seoul_purpose_admdong4_in_20241209.zip → (\"Could not convert '11305615' with type str: tried to convert to double\", 'Conversion failed for column o_admdong_cd with type object')\n",
      "seoul_purpose_admdong4_in_20241225.zip → (\"Expected bytes, got a 'float' object\", 'Conversion failed for column o_admdong_cd with type object')\n",
      "seoul_purpose_admdong4_in_20241231.zip → (\"Could not convert '11680580' with type str: tried to convert to double\", 'Conversion failed for column d_admdong_cd with type object')\n",
      "seoul_purpose_admdong4_in_20241230.zip → (\"Expected bytes, got a 'int' object\", 'Conversion failed for column d_admdong_cd with type object')\n",
      "seoul_purpose_admdong4_in_20241224.zip → (\"Could not convert '11680670' with type str: tried to convert to double\", 'Conversion failed for column d_admdong_cd with type object')\n",
      "seoul_purpose_admdong4_in_20241226.zip → (\"Could not convert '41194550' with type str: tried to convert to double\", 'Conversion failed for column d_admdong_cd with type object')\n"
     ]
    }
   ],
   "source": [
    "import os\n",
    "import zipfile\n",
    "import pandas as pd\n",
    "\n",
    "zip_dir = \"/Users/Star1/Desktop/2025/2025여름/수도권_해커톤/2.1열린데이터광장/data_crawling\"         # ZIP들이 있는 폴더\n",
    "parquet_dir = \"/Users/Star1/Desktop/2025/2025여름/수도권_해커톤/2.1열린데이터광장/parquets\" # PARQUET 저장 폴더\n",
    "os.makedirs(parquet_dir, exist_ok=True)\n",
    "\n",
    "errors = []\n",
    "\n",
    "dtype_spec = {\n",
    "    \"o_admdong_cd\": str,\n",
    "    \"d_admdong_cd\": str,\n",
    "    \"st_time_cd\": str,\n",
    "    \"fns_time_cd\": str\n",
    "}\n",
    "\n",
    "\n",
    "for fname in os.listdir(zip_dir):\n",
    "    if not fname.endswith(\".zip\"):\n",
    "        continue\n",
    "\n",
    "    zip_path = os.path.join(zip_dir, fname)\n",
    "    base_name = fname.replace(\".zip\", \"\")\n",
    "    csv_name = f\"{base_name}.csv\"\n",
    "    parquet_path = os.path.join(parquet_dir, f\"{base_name}.parquet\")\n",
    "\n",
    "    if os.path.exists(parquet_path):\n",
    "        print(f\"[SKIP] 이미 존재: {base_name}.parquet\")\n",
    "        continue\n",
    "\n",
    "    try:\n",
    "        with zipfile.ZipFile(zip_path, 'r') as zf:\n",
    "            with zf.open(csv_name) as csvfile:\n",
    "                df = pd.read_csv(csvfile, encoding=\"utf-8\", dtype=dtype_spec, low_memory=False)  # 혹시 깨지면 cp949 시도\n",
    "                df.to_parquet(parquet_path, index=False)\n",
    "                print(f\"[OK] 변환 완료: {base_name}.parquet\")\n",
    "    except Exception as e:\n",
    "        print(f\"[ERROR] {fname}: {e}\")\n",
    "        errors.append((fname, str(e)))\n",
    "\n",
    "# 에러 요약\n",
    "if errors:\n",
    "    print(\"\\n⚠️ 변환 실패 목록:\")\n",
    "    for f, msg in errors:\n",
    "        print(f\"{f} → {msg}\")\n"
   ]
  },
  {
   "cell_type": "code",
   "execution_count": null,
   "id": "d85a6a84",
   "metadata": {},
   "outputs": [],
   "source": []
  },
  {
   "cell_type": "markdown",
   "id": "c79d93de",
   "metadata": {},
   "source": [
    "## 2. 도착지가 잠실4동인 데이터"
   ]
  },
  {
   "cell_type": "code",
   "execution_count": 1,
   "id": "37484a2d",
   "metadata": {},
   "outputs": [
    {
     "name": "stdout",
     "output_type": "stream",
     "text": [
      "[ERROR] seoul_purpose_admdong4_in_20240630.parquet → 'd_admdong_cd'\n",
      "[✓] seoul_purpose_admdong4_in_20240701.parquet → 4106 rows\n",
      "[✓] seoul_purpose_admdong4_in_20240702.parquet → 3956 rows\n",
      "[✓] seoul_purpose_admdong4_in_20240705.parquet → 4175 rows\n",
      "[✓] seoul_purpose_admdong4_in_20240706.parquet → 3322 rows\n",
      "[✓] seoul_purpose_admdong4_in_20240707.parquet → 2935 rows\n",
      "[✓] seoul_purpose_admdong4_in_20240708.parquet → 3951 rows\n",
      "[✓] seoul_purpose_admdong4_in_20240709.parquet → 4214 rows\n",
      "[✓] seoul_purpose_admdong4_in_20240710.parquet → 4119 rows\n",
      "[✓] seoul_purpose_admdong4_in_20240711.parquet → 4252 rows\n",
      "[✓] seoul_purpose_admdong4_in_20240712.parquet → 4020 rows\n",
      "[✓] seoul_purpose_admdong4_in_20240713.parquet → 3417 rows\n",
      "[✓] seoul_purpose_admdong4_in_20240714.parquet → 2985 rows\n",
      "[✓] seoul_purpose_admdong4_in_20240715.parquet → 4153 rows\n",
      "[✓] seoul_purpose_admdong4_in_20240716.parquet → 4145 rows\n",
      "[✓] seoul_purpose_admdong4_in_20240717.parquet → 3883 rows\n",
      "[✓] seoul_purpose_admdong4_in_20240718.parquet → 3824 rows\n",
      "[✓] seoul_purpose_admdong4_in_20240719.parquet → 4075 rows\n",
      "[✓] seoul_purpose_admdong4_in_20240720.parquet → 3221 rows\n",
      "[✓] seoul_purpose_admdong4_in_20240721.parquet → 2846 rows\n",
      "[✓] seoul_purpose_admdong4_in_20240722.parquet → 3882 rows\n",
      "[✓] seoul_purpose_admdong4_in_20240723.parquet → 3938 rows\n",
      "[✓] seoul_purpose_admdong4_in_20240724.parquet → 3952 rows\n",
      "[✓] seoul_purpose_admdong4_in_20240725.parquet → 3990 rows\n",
      "[✓] seoul_purpose_admdong4_in_20240726.parquet → 3842 rows\n",
      "[✓] seoul_purpose_admdong4_in_20240727.parquet → 3286 rows\n",
      "[✓] seoul_purpose_admdong4_in_20240728.parquet → 2821 rows\n",
      "[✓] seoul_purpose_admdong4_in_20240729.parquet → 3645 rows\n",
      "[✓] seoul_purpose_admdong4_in_20240730.parquet → 3826 rows\n",
      "[✓] seoul_purpose_admdong4_in_20240731.parquet → 3885 rows\n",
      "[✓] seoul_purpose_admdong4_in_20240801.parquet → 3779 rows\n",
      "[✓] seoul_purpose_admdong4_in_20240802.parquet → 3680 rows\n",
      "[✓] seoul_purpose_admdong4_in_20240803.parquet → 3036 rows\n",
      "[✓] seoul_purpose_admdong4_in_20240804.parquet → 2705 rows\n",
      "[✓] seoul_purpose_admdong4_in_20240805.parquet → 3691 rows\n",
      "[✓] seoul_purpose_admdong4_in_20240806.parquet → 3787 rows\n",
      "[✓] seoul_purpose_admdong4_in_20240807.parquet → 3783 rows\n",
      "[✓] seoul_purpose_admdong4_in_20240808.parquet → 3748 rows\n",
      "[✓] seoul_purpose_admdong4_in_20240809.parquet → 3723 rows\n",
      "[✓] seoul_purpose_admdong4_in_20240810.parquet → 3247 rows\n",
      "[✓] seoul_purpose_admdong4_in_20240811.parquet → 2763 rows\n",
      "[✓] seoul_purpose_admdong4_in_20240812.parquet → 3761 rows\n",
      "[✓] seoul_purpose_admdong4_in_20240813.parquet → 3875 rows\n",
      "[✓] seoul_purpose_admdong4_in_20240814.parquet → 3816 rows\n",
      "[✓] seoul_purpose_admdong4_in_20240815.parquet → 2871 rows\n",
      "[✓] seoul_purpose_admdong4_in_20240816.parquet → 3640 rows\n",
      "[✓] seoul_purpose_admdong4_in_20240817.parquet → 3164 rows\n",
      "[✓] seoul_purpose_admdong4_in_20240818.parquet → 2822 rows\n",
      "[✓] seoul_purpose_admdong4_in_20240819.parquet → 3946 rows\n",
      "[✓] seoul_purpose_admdong4_in_20240820.parquet → 4053 rows\n",
      "[✓] seoul_purpose_admdong4_in_20240821.parquet → 3884 rows\n",
      "[✓] seoul_purpose_admdong4_in_20240822.parquet → 4005 rows\n",
      "[✓] seoul_purpose_admdong4_in_20240823.parquet → 4004 rows\n",
      "[✓] seoul_purpose_admdong4_in_20240824.parquet → 3420 rows\n",
      "[✓] seoul_purpose_admdong4_in_20240825.parquet → 2856 rows\n",
      "[✓] seoul_purpose_admdong4_in_20240826.parquet → 3994 rows\n",
      "[✓] seoul_purpose_admdong4_in_20240827.parquet → 4061 rows\n",
      "[✓] seoul_purpose_admdong4_in_20240828.parquet → 4087 rows\n",
      "[✓] seoul_purpose_admdong4_in_20240829.parquet → 4039 rows\n",
      "[✓] seoul_purpose_admdong4_in_20240830.parquet → 4080 rows\n",
      "[✓] seoul_purpose_admdong4_in_20240831.parquet → 3789 rows\n",
      "[✓] seoul_purpose_admdong4_in_20240901.parquet → 3090 rows\n",
      "[✓] seoul_purpose_admdong4_in_20240902.parquet → 4092 rows\n",
      "[✓] seoul_purpose_admdong4_in_20240903.parquet → 4185 rows\n",
      "[✓] seoul_purpose_admdong4_in_20240904.parquet → 4224 rows\n",
      "[✓] seoul_purpose_admdong4_in_20240905.parquet → 4171 rows\n",
      "[✓] seoul_purpose_admdong4_in_20240906.parquet → 4193 rows\n",
      "[✓] seoul_purpose_admdong4_in_20240907.parquet → 3726 rows\n",
      "[✓] seoul_purpose_admdong4_in_20240908.parquet → 3066 rows\n",
      "[✓] seoul_purpose_admdong4_in_20240909.parquet → 4096 rows\n",
      "[✓] seoul_purpose_admdong4_in_20240910.parquet → 4209 rows\n",
      "[✓] seoul_purpose_admdong4_in_20240911.parquet → 4157 rows\n",
      "[✓] seoul_purpose_admdong4_in_20240912.parquet → 4164 rows\n",
      "[✓] seoul_purpose_admdong4_in_20240913.parquet → 4119 rows\n",
      "[✓] seoul_purpose_admdong4_in_20240914.parquet → 3018 rows\n",
      "[✓] seoul_purpose_admdong4_in_20240915.parquet → 2626 rows\n",
      "[✓] seoul_purpose_admdong4_in_20240916.parquet → 2585 rows\n",
      "[✓] seoul_purpose_admdong4_in_20240917.parquet → 3212 rows\n",
      "[✓] seoul_purpose_admdong4_in_20240918.parquet → 2575 rows\n",
      "[✓] seoul_purpose_admdong4_in_20240919.parquet → 3902 rows\n",
      "[✓] seoul_purpose_admdong4_in_20240920.parquet → 3928 rows\n",
      "[✓] seoul_purpose_admdong4_in_20240921.parquet → 3444 rows\n",
      "[✓] seoul_purpose_admdong4_in_20240922.parquet → 3041 rows\n",
      "[✓] seoul_purpose_admdong4_in_20240923.parquet → 4190 rows\n",
      "[✓] seoul_purpose_admdong4_in_20240924.parquet → 4310 rows\n",
      "[✓] seoul_purpose_admdong4_in_20240925.parquet → 4219 rows\n",
      "[✓] seoul_purpose_admdong4_in_20240926.parquet → 4417 rows\n",
      "[✓] seoul_purpose_admdong4_in_20240927.parquet → 4491 rows\n",
      "[✓] seoul_purpose_admdong4_in_20240928.parquet → 3933 rows\n",
      "[✓] seoul_purpose_admdong4_in_20240929.parquet → 2890 rows\n",
      "[✓] seoul_purpose_admdong4_in_20240930.parquet → 4024 rows\n",
      "[✓] seoul_purpose_admdong4_in_20241001.parquet → 3047 rows\n",
      "[✓] seoul_purpose_admdong4_in_20241002.parquet → 4085 rows\n",
      "[✓] seoul_purpose_admdong4_in_20241003.parquet → 3097 rows\n",
      "[✓] seoul_purpose_admdong4_in_20241004.parquet → 4011 rows\n",
      "[✓] seoul_purpose_admdong4_in_20241005.parquet → 3575 rows\n",
      "[✓] seoul_purpose_admdong4_in_20241006.parquet → 3005 rows\n",
      "[✓] seoul_purpose_admdong4_in_20241007.parquet → 4232 rows\n",
      "[✓] seoul_purpose_admdong4_in_20241008.parquet → 4375 rows\n",
      "[✓] seoul_purpose_admdong4_in_20241009.parquet → 3294 rows\n",
      "[✓] seoul_purpose_admdong4_in_20241010.parquet → 4190 rows\n",
      "[✓] seoul_purpose_admdong4_in_20241011.parquet → 4282 rows\n",
      "[✓] seoul_purpose_admdong4_in_20241012.parquet → 3694 rows\n",
      "[✓] seoul_purpose_admdong4_in_20241013.parquet → 3093 rows\n",
      "[✓] seoul_purpose_admdong4_in_20241014.parquet → 4149 rows\n",
      "[✓] seoul_purpose_admdong4_in_20241015.parquet → 4144 rows\n",
      "[✓] seoul_purpose_admdong4_in_20241016.parquet → 4204 rows\n",
      "[✓] seoul_purpose_admdong4_in_20241017.parquet → 4250 rows\n",
      "[✓] seoul_purpose_admdong4_in_20241018.parquet → 4175 rows\n",
      "[✓] seoul_purpose_admdong4_in_20241019.parquet → 3741 rows\n",
      "[✓] seoul_purpose_admdong4_in_20241020.parquet → 3141 rows\n",
      "[✓] seoul_purpose_admdong4_in_20241021.parquet → 4057 rows\n",
      "[✓] seoul_purpose_admdong4_in_20241022.parquet → 4083 rows\n",
      "[✓] seoul_purpose_admdong4_in_20241023.parquet → 4163 rows\n",
      "[✓] seoul_purpose_admdong4_in_20241024.parquet → 4393 rows\n",
      "[✓] seoul_purpose_admdong4_in_20241025.parquet → 4201 rows\n",
      "[✓] seoul_purpose_admdong4_in_20241026.parquet → 3846 rows\n",
      "[✓] seoul_purpose_admdong4_in_20241027.parquet → 3093 rows\n",
      "[✓] seoul_purpose_admdong4_in_20241028.parquet → 4222 rows\n",
      "[✓] seoul_purpose_admdong4_in_20241029.parquet → 4316 rows\n",
      "[✓] seoul_purpose_admdong4_in_20241030.parquet → 4249 rows\n",
      "[✓] seoul_purpose_admdong4_in_20241031.parquet → 4289 rows\n",
      "[✓] seoul_purpose_admdong4_in_20241101.parquet → 4231 rows\n",
      "[✓] seoul_purpose_admdong4_in_20241102.parquet → 3822 rows\n",
      "[✓] seoul_purpose_admdong4_in_20241103.parquet → 3675 rows\n",
      "[✓] seoul_purpose_admdong4_in_20241104.parquet → 4180 rows\n",
      "[✓] seoul_purpose_admdong4_in_20241105.parquet → 4305 rows\n",
      "[✓] seoul_purpose_admdong4_in_20241106.parquet → 4271 rows\n",
      "[✓] seoul_purpose_admdong4_in_20241107.parquet → 4187 rows\n",
      "[✓] seoul_purpose_admdong4_in_20241108.parquet → 4310 rows\n",
      "[✓] seoul_purpose_admdong4_in_20241109.parquet → 3841 rows\n",
      "[✓] seoul_purpose_admdong4_in_20241110.parquet → 3326 rows\n",
      "[✓] seoul_purpose_admdong4_in_20241111.parquet → 4118 rows\n",
      "[✓] seoul_purpose_admdong4_in_20241112.parquet → 4254 rows\n",
      "[✓] seoul_purpose_admdong4_in_20241113.parquet → 4220 rows\n",
      "[✓] seoul_purpose_admdong4_in_20241114.parquet → 4134 rows\n",
      "[✓] seoul_purpose_admdong4_in_20241115.parquet → 4158 rows\n",
      "[✓] seoul_purpose_admdong4_in_20241116.parquet → 3654 rows\n",
      "[✓] seoul_purpose_admdong4_in_20241117.parquet → 3127 rows\n",
      "[✓] seoul_purpose_admdong4_in_20241118.parquet → 4137 rows\n",
      "[✓] seoul_purpose_admdong4_in_20241119.parquet → 4200 rows\n",
      "[✓] seoul_purpose_admdong4_in_20241120.parquet → 4131 rows\n",
      "[✓] seoul_purpose_admdong4_in_20241121.parquet → 4248 rows\n",
      "[✓] seoul_purpose_admdong4_in_20241122.parquet → 4193 rows\n",
      "[✓] seoul_purpose_admdong4_in_20241123.parquet → 3654 rows\n",
      "[✓] seoul_purpose_admdong4_in_20241124.parquet → 3038 rows\n",
      "[✓] seoul_purpose_admdong4_in_20241125.parquet → 4141 rows\n",
      "[✓] seoul_purpose_admdong4_in_20241126.parquet → 4099 rows\n",
      "[✓] seoul_purpose_admdong4_in_20241127.parquet → 3876 rows\n",
      "[✓] seoul_purpose_admdong4_in_20241128.parquet → 3876 rows\n",
      "[✓] seoul_purpose_admdong4_in_20241129.parquet → 4243 rows\n",
      "[✓] seoul_purpose_admdong4_in_20241130.parquet → 3614 rows\n",
      "[✓] seoul_purpose_admdong4_in_20241205.parquet → 4259 rows\n",
      "[✓] seoul_purpose_admdong4_in_20241208.parquet → 2867 rows\n",
      "[✓] seoul_purpose_admdong4_in_20241212.parquet → 4219 rows\n",
      "[✓] seoul_purpose_admdong4_in_20241214.parquet → 3534 rows\n",
      "[✓] seoul_purpose_admdong4_in_20241215.parquet → 2987 rows\n",
      "[✓] seoul_purpose_admdong4_in_20241218.parquet → 4083 rows\n",
      "[✓] seoul_purpose_admdong4_in_20241219.parquet → 4081 rows\n",
      "[✓] seoul_purpose_admdong4_in_20241221.parquet → 3364 rows\n",
      "[✓] seoul_purpose_admdong4_in_20241222.parquet → 2761 rows\n",
      "[✓] seoul_purpose_admdong4_in_20241227.parquet → 3872 rows\n",
      "[✓] seoul_purpose_admdong4_in_20241228.parquet → 3007 rows\n",
      "\n",
      "✅ 총 잠실4동 도착 행 수: 612065\n"
     ]
    }
   ],
   "source": [
    "# 1. 일단 도착지가 잠실4동인 애들만 빼기\n",
    "\n",
    "import os\n",
    "import pandas as pd\n",
    "from glob import glob\n",
    "\n",
    "# parquet들이 들어있는 폴더\n",
    "parquet_dir = \"/Users/Star1/Desktop/2025/2025여름/수도권_해커톤/2.1열린데이터광장/parquets\"\n",
    "files = sorted(glob(os.path.join(parquet_dir, \"*.parquet\")))\n",
    "\n",
    "# 조건\n",
    "# O_TARGET = 11620715\n",
    "D_TARGET = 11710690\n",
    "\n",
    "filtered=[]\n",
    "\n",
    "for file in files:\n",
    "    try:\n",
    "        df = pd.read_parquet(file)\n",
    "        df = df[df[\"d_admdong_cd\"] == D_TARGET]  # 출발지 필터만 적용\n",
    "        if not df.empty:\n",
    "            filtered.append(df)\n",
    "            print(f\"[✓] {os.path.basename(file)} → {len(df)} rows\")\n",
    "        else:\n",
    "            print(f\"[ ] {os.path.basename(file)} → no match\")\n",
    "    except Exception as e:\n",
    "        print(f\"[ERROR] {os.path.basename(file)} → {e}\")\n",
    "\n",
    "# 최종 병합\n",
    "if filtered:\n",
    "    df_namhyang = pd.concat(filtered, ignore_index=True)\n",
    "    print(f\"\\n✅ 총 잠실4동 도착 행 수: {len(df_namhyang)}\")\n",
    "\n",
    "    # 저장 (선택)\n",
    "    df_namhyang.to_parquet(\"잠실4동_도착_전체.parquet\", index=False)\n",
    "else:\n",
    "    print(\"\\n⚠️ 잠실4동 도착 데이터 없음\")"
   ]
  },
  {
   "cell_type": "code",
   "execution_count": 2,
   "id": "7af994be",
   "metadata": {},
   "outputs": [
    {
     "name": "stdout",
     "output_type": "stream",
     "text": [
      "📌 전체 컬럼:\n",
      "['o_admdong_cd', 'd_admdong_cd', 'st_time_cd', 'fns_time_cd', 'move_dist', 'move_time', '0010_cnt', '2030_cnt', '4050_cnt', '60plus_cnt', 'total_cnt', 'etl_ymd']\n",
      "\n",
      "📌 상위 10개 행:\n",
      "   o_admdong_cd  d_admdong_cd  st_time_cd  fns_time_cd  move_dist  move_time  \\\n",
      "0    11680750.0    11710690.0        1800         1900     3873.0       47.0   \n",
      "1    11680640.0    11710690.0           6          720     6404.0       39.0   \n",
      "2    28185820.0    11710690.0         940           11    43122.0       82.0   \n",
      "3    11680531.0    11710690.0        1820         1900     6650.0       40.0   \n",
      "4    11710620.0    11710690.0          22           22     2685.0       20.0   \n",
      "5    11680655.0    11710690.0        1800         1840     7653.0       44.0   \n",
      "6    11560605.0    11710690.0          12           12    19850.0        1.0   \n",
      "7    11710690.0    11710690.0           2            2      266.0        6.0   \n",
      "8    11680545.0    11710690.0           2            2     6443.0       17.0   \n",
      "9    11200690.0    11710690.0          12           13     5814.0       44.0   \n",
      "\n",
      "   0010_cnt  2030_cnt  4050_cnt  60plus_cnt  total_cnt   etl_ymd  \n",
      "0      0.00      0.00      3.21        0.00       3.21  20240701  \n",
      "1      0.00      0.00      1.86        0.00       1.86  20240701  \n",
      "2      0.00      0.00      0.00        2.92       2.92  20240701  \n",
      "3      0.00      0.00      0.00        3.10       3.10  20240701  \n",
      "4      0.00      0.00      2.75        0.00       2.75  20240701  \n",
      "5      0.00      0.00      7.19        0.00       7.19  20240701  \n",
      "6      0.00      0.00      4.42        0.00       4.42  20240701  \n",
      "7      0.00     12.85     15.38        6.06      34.29  20240701  \n",
      "8      3.72      0.00      0.00        0.00       3.72  20240701  \n",
      "9      0.00      0.00      3.21        0.00       3.21  20240701  \n"
     ]
    }
   ],
   "source": [
    "# 1-1. 합쳐진 잠실4동 도착파일 확인하기\n",
    "import pandas as pd\n",
    "\n",
    "# 파일 경로 지정\n",
    "file_path = \"/Users/Star1/Desktop/2025/2025여름/수도권_해커톤/2.1열린데이터광장/잠실4동_도착_전체.parquet\"\n",
    "\n",
    "df = pd.read_parquet(file_path)\n",
    "\n",
    "# 전체 컬럼명 출력\n",
    "print(\"📌 전체 컬럼:\")\n",
    "print(df.columns.tolist())\n",
    "\n",
    "# 일부 행 미리보기 (앞 5개)\n",
    "print(\"\\n📌 상위 10개 행:\")\n",
    "print(df.head(10))\n"
   ]
  },
  {
   "cell_type": "code",
   "execution_count": 3,
   "id": "deb96089",
   "metadata": {},
   "outputs": [
    {
     "name": "stdout",
     "output_type": "stream",
     "text": [
      "✅ 잠실4동 도착 - 요일별 유입 인구 통계요약:\n",
      "   weekday  day_count          mean     median          q1         q3  \\\n",
      "0        0         22  25275.313182  25980.275  24950.8650  26407.155   \n",
      "1        1         22  25988.767727  26408.735  25409.6775  27383.035   \n",
      "2        2         22  25889.874091  26463.105  25439.1650  27093.530   \n",
      "3        3         24  25912.764583  26162.090  25537.1275  27086.150   \n",
      "4        4         23  26533.241304  26648.430  25961.3500  27430.640   \n",
      "5        5         25  23584.381600  23421.430  22081.6100  24880.280   \n",
      "6        6         24  20562.961667  20487.470  19705.0325  21188.225   \n",
      "\n",
      "        min       max weekday_name  \n",
      "0  17368.85  27141.10            월  \n",
      "1  20426.15  27997.43            화  \n",
      "2  18241.12  28182.34            수  \n",
      "3  20386.57  28416.78            목  \n",
      "4  23894.80  29960.65            금  \n",
      "5  20145.52  27079.08            토  \n",
      "6  18751.73  25686.97            일  \n"
     ]
    }
   ],
   "source": [
    "# 1-2. 합쳐진 잠실4동 요일별 유입인ㅇ구 확인\n",
    "import pandas as pd\n",
    "\n",
    "\n",
    "# 날짜 변환 및 요일 추출\n",
    "df[\"etl_ymd\"] = pd.to_datetime(df[\"etl_ymd\"].astype(str))\n",
    "df[\"weekday\"] = df[\"etl_ymd\"].dt.dayofweek  # 0=월 ~ 6=일\n",
    "\n",
    "# 날짜별 total 유입 인구 계산\n",
    "daily_total = df.groupby([\"etl_ymd\", \"weekday\"])[\"total_cnt\"].sum().reset_index()\n",
    "\n",
    "# 요일별 통계요약\n",
    "weekday_stats = (\n",
    "    daily_total\n",
    "    .groupby(\"weekday\")[\"total_cnt\"]\n",
    "    .agg(\n",
    "        day_count=\"count\",\n",
    "        mean=\"mean\",\n",
    "        median=\"median\",\n",
    "        q1=lambda x: x.quantile(0.25),\n",
    "        q3=lambda x: x.quantile(0.75),\n",
    "        min=\"min\",\n",
    "        max=\"max\"\n",
    "    )\n",
    "    .reset_index()\n",
    ")\n",
    "\n",
    "# 요일 이름 추가\n",
    "weekday_stats[\"weekday_name\"] = weekday_stats[\"weekday\"].map({\n",
    "    0: \"월\", 1: \"화\", 2: \"수\", 3: \"목\", 4: \"금\", 5: \"토\", 6: \"일\"\n",
    "})\n",
    "\n",
    "# 요일 순서대로 정렬\n",
    "weekday_stats = weekday_stats.sort_values(\"weekday\")\n",
    "\n",
    "# 결과 출력\n",
    "print(\"✅ 잠실4동 도착 - 요일별 유입 인구 통계요약:\")\n",
    "print(weekday_stats)\n"
   ]
  },
  {
   "cell_type": "code",
   "execution_count": 4,
   "id": "98560f78",
   "metadata": {},
   "outputs": [
    {
     "name": "stdout",
     "output_type": "stream",
     "text": [
      "✅ 잠실4동 주말 유입 Top 4 출발지 및 월평균 유입 수:\n",
      "     o_admdong_cd  total_cnt  monthly_avg_cnt\n",
      "404    11710690.0  184287.09     30714.515000\n",
      "405    11710710.0  147379.87     24563.311667\n",
      "387    11710562.0   56573.52      9428.920000\n",
      "403    11710680.0   35505.93      5917.655000\n"
     ]
    }
   ],
   "source": [
    "# 1-3. 합쳐진 잠실4동 유입인구 top4 그리고 월평균 수\n",
    "\n",
    "# 날짜 및 요일 처리\n",
    "df[\"etl_ymd\"] = pd.to_datetime(df[\"etl_ymd\"].astype(str))\n",
    "df[\"weekday\"] = df[\"etl_ymd\"].dt.dayofweek  # 0=월, 6=일\n",
    "\n",
    "# 주말만 필터링 (토, 일)\n",
    "df_weekend = df[df[\"weekday\"].isin([5, 6])].copy()\n",
    "df_weekend[\"month\"] = df_weekend[\"etl_ymd\"].dt.to_period(\"M\")\n",
    "\n",
    "# 출발지별 월별 유입 인구 합산\n",
    "monthly = (\n",
    "    df_weekend\n",
    "    .groupby([\"o_admdong_cd\", \"month\"])[\"total_cnt\"]\n",
    "    .sum()\n",
    "    .reset_index()\n",
    ")\n",
    "\n",
    "# 출발지별 월평균\n",
    "monthly_avg = (\n",
    "    monthly\n",
    "    .groupby(\"o_admdong_cd\")[\"total_cnt\"]\n",
    "    .mean()\n",
    "    .reset_index()\n",
    "    .rename(columns={\"total_cnt\": \"monthly_avg_cnt\"})\n",
    ")\n",
    "\n",
    "# 출발지별 전체 총합\n",
    "total_sum = (\n",
    "    df_weekend\n",
    "    .groupby(\"o_admdong_cd\")[\"total_cnt\"]\n",
    "    .sum()\n",
    "    .reset_index()\n",
    "    .rename(columns={\"total_cnt\": \"total_cnt\"})\n",
    ")\n",
    "\n",
    "# 병합 후 Top 4 추출\n",
    "result = pd.merge(total_sum, monthly_avg, on=\"o_admdong_cd\")\n",
    "top4 = result.sort_values(\"total_cnt\", ascending=False).head(4)\n",
    "\n",
    "print(\"✅ 잠실4동 주말 유입 Top 4 출발지 및 월평균 유입 수:\")\n",
    "print(top4)\n"
   ]
  },
  {
   "cell_type": "code",
   "execution_count": 5,
   "id": "ebfbfbb1",
   "metadata": {},
   "outputs": [
    {
     "name": "stdout",
     "output_type": "stream",
     "text": [
      "✅ 주말 유입 Top4 출발지 기준 이동시간 통계요약 (단위: 분):\n",
      "   o_admdong_cd  count       mean  median         q1    q3  min     max\n",
      "0    11710562.0   3832  30.694928    15.0   6.000000  37.0  0.0   806.0\n",
      "1    11710680.0   2965  35.859594    21.0  12.796667  42.0  0.0   486.0\n",
      "2    11710690.0   6067  52.164340    29.0   6.348645  60.0  0.0  1116.0\n",
      "3    11710710.0   5409  46.313256    25.0   9.000000  56.0  0.0  1016.0\n"
     ]
    }
   ],
   "source": [
    "# 1-4. 합쳐진 남향동 유출인구 top4 평균(중앙값) 이동시간\n",
    "\n",
    "# 1. Top 4 출발지 코드 리스트\n",
    "top4_o_admdong = top4[\"o_admdong_cd\"].tolist()\n",
    "\n",
    "# 2. 원본 df에서 해당 출발지로 필터링 (주말 조건도 포함)\n",
    "df_top4_move = df_weekend[df_weekend[\"o_admdong_cd\"].isin(top4_o_admdong)].copy()\n",
    "\n",
    "# 3. 통계 요약 계산\n",
    "move_time_stats = (\n",
    "    df_top4_move\n",
    "    .groupby(\"o_admdong_cd\")[\"move_time\"]\n",
    "    .agg(\n",
    "        count=\"count\",\n",
    "        mean=\"mean\",\n",
    "        median=\"median\",\n",
    "        q1=lambda x: x.quantile(0.25),\n",
    "        q3=lambda x: x.quantile(0.75),\n",
    "        min=\"min\",\n",
    "        max=\"max\"\n",
    "    )\n",
    "    .reset_index()\n",
    ")\n",
    "\n",
    "# 결과 출력\n",
    "print(\"✅ 주말 유입 Top4 출발지 기준 이동시간 통계요약 (단위: 분):\")\n",
    "print(move_time_stats)\n"
   ]
  },
  {
   "cell_type": "code",
   "execution_count": 6,
   "id": "bae21406",
   "metadata": {},
   "outputs": [
    {
     "name": "stdout",
     "output_type": "stream",
     "text": [
      "✅ 출발지 Top 4 기준 월평균 유출 인구 비율 (연령대별):\n",
      "   o_admdong_cd  0010_cnt_ratio  2030_cnt_ratio  4050_cnt_ratio  \\\n",
      "0    11710562.0        0.126074        0.317975        0.336382   \n",
      "1    11710680.0        0.127927        0.240293        0.408482   \n",
      "2    11710690.0        0.156926        0.175357        0.391165   \n",
      "3    11710710.0        0.150191        0.227093        0.406938   \n",
      "\n",
      "   60plus_cnt_ratio  \n",
      "0          0.219568  \n",
      "1          0.223292  \n",
      "2          0.276550  \n",
      "3          0.215780  \n"
     ]
    }
   ],
   "source": [
    "# 1-5. 연령대별 월평균 유입인구\n",
    "\n",
    "# 1. 출발지 Top 4 코드 리스트 (잠실4동 주말 유입 기준)\n",
    "top4_o_admdong = top4[\"o_admdong_cd\"].tolist()\n",
    "\n",
    "# 2. 주말 데이터에서 해당 출발지만 필터링\n",
    "df_top = df_weekend[df_weekend[\"o_admdong_cd\"].isin(top4_o_admdong)].copy()\n",
    "\n",
    "# 3. 월 컬럼 생성\n",
    "df_top[\"month\"] = df_top[\"etl_ymd\"].dt.to_period(\"M\")\n",
    "\n",
    "# 4. 연령대 컬럼 정의\n",
    "age_cols = [\"0010_cnt\", \"2030_cnt\", \"4050_cnt\", \"60plus_cnt\", \"total_cnt\"]\n",
    "\n",
    "# 5. 월별 합계\n",
    "monthly_age = (\n",
    "    df_top\n",
    "    .groupby([\"o_admdong_cd\", \"month\"])[age_cols]\n",
    "    .sum()\n",
    "    .reset_index()\n",
    ")\n",
    "\n",
    "# 6. 월평균 계산\n",
    "monthly_avg_age = (\n",
    "    monthly_age\n",
    "    .groupby(\"o_admdong_cd\")[age_cols]\n",
    "    .mean()\n",
    "    .reset_index()\n",
    ")\n",
    "\n",
    "# 7. 비율 계산\n",
    "for col in [\"0010_cnt\", \"2030_cnt\", \"4050_cnt\", \"60plus_cnt\"]:\n",
    "    monthly_avg_age[f\"{col}_ratio\"] = monthly_avg_age[col] / monthly_avg_age[\"total_cnt\"]\n",
    "\n",
    "# 8. 출력: 비율만\n",
    "age_ratio_cols = [\n",
    "    \"o_admdong_cd\",\n",
    "    \"0010_cnt_ratio\", \"2030_cnt_ratio\",\n",
    "    \"4050_cnt_ratio\", \"60plus_cnt_ratio\"\n",
    "]\n",
    "\n",
    "print(\"✅ 출발지 Top 4 기준 월평균 유출 인구 비율 (연령대별):\")\n",
    "print(monthly_avg_age[age_ratio_cols])\n"
   ]
  },
  {
   "cell_type": "code",
   "execution_count": null,
   "id": "889ff297",
   "metadata": {},
   "outputs": [],
   "source": [
    "11710710.0\n",
    "11710562.0\n",
    "11710680.0\n",
    "송파구 잠실6동\n",
    "송파구 방이2동\n",
    "송파구 잠실3동"
   ]
  },
  {
   "cell_type": "code",
   "execution_count": null,
   "id": "757faf4a",
   "metadata": {},
   "outputs": [],
   "source": []
  }
 ],
 "metadata": {
  "kernelspec": {
   "display_name": "Python 3",
   "language": "python",
   "name": "python3"
  },
  "language_info": {
   "codemirror_mode": {
    "name": "ipython",
    "version": 3
   },
   "file_extension": ".py",
   "mimetype": "text/x-python",
   "name": "python",
   "nbconvert_exporter": "python",
   "pygments_lexer": "ipython3",
   "version": "3.12.11"
  }
 },
 "nbformat": 4,
 "nbformat_minor": 5
}
