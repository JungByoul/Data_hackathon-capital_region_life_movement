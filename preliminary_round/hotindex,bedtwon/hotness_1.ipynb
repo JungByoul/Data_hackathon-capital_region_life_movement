{
 "cells": [
  {
   "cell_type": "markdown",
   "id": "35fa7bf2",
   "metadata": {},
   "source": [
    "## 2.  핫플지수 확정\n",
    "\n"
   ]
  },
  {
   "cell_type": "code",
   "execution_count": 1,
   "id": "1af8d8ab",
   "metadata": {},
   "outputs": [
    {
     "name": "stdout",
     "output_type": "stream",
     "text": [
      "✅ 1️⃣ Parquet 스캔 시작\n",
      "   → LazyFrame 생성 완료\n"
     ]
    }
   ],
   "source": [
    "import polars as pl\n",
    "import numpy as np\n",
    "\n",
    "print(\"✅ 1️⃣ Parquet 스캔 시작\")\n",
    "lazy_df = pl.scan_parquet('combined_parquet/**/*.parquet', glob=True)\n",
    "print(\"   → LazyFrame 생성 완료\")\n"
   ]
  },
  {
   "cell_type": "code",
   "execution_count": 8,
   "id": "f7a65df3",
   "metadata": {},
   "outputs": [
    {
     "data": {
      "text/plain": [
       "polars.config.Config"
      ]
     },
     "execution_count": 8,
     "metadata": {},
     "output_type": "execute_result"
    }
   ],
   "source": [
    "import polars as pl\n",
    "\n",
    "# ———————— 풀 테이블 출력 설정 ————————\n",
    "pl.Config.set_tbl_rows(100)         # 최대 100행까지 줄임표 없이 표시\n",
    "pl.Config.set_tbl_cols(100)        # 최대 100열까지 표시\n",
    "pl.Config.set_tbl_formatting(\"UTF8_FULL\")  # 테두리 포함, 생략 없이 전체 보여주기\n"
   ]
  },
  {
   "cell_type": "code",
   "execution_count": 2,
   "id": "a390f816",
   "metadata": {},
   "outputs": [],
   "source": [
    "\n",
    "import polars as pl\n",
    "\n",
    "\n",
    "# 1️⃣ filtered 정의: 2024년··주요 목적 필터 + 날짜 파싱\n",
    "filtered = (\n",
    "    lazy_df\n",
    "      # ─ 날짜 범위: 2024-01-01 ~ 2024-12-31\n",
    "      .filter((pl.col(\"ETL_YMD\") >= \"20240101\") & (pl.col(\"ETL_YMD\") <= \"20241231\"))\n",
    "      \n",
    "    #   # ─ 시간 범위: 18시(18)부터 23시(23)까지\n",
    "    #   .filter((pl.col(\"TIME_CD\").cast(pl.Int64) >= 18) \n",
    "    #         & (pl.col(\"TIME_CD\").cast(pl.Int64) <= 23))\n",
    "      \n",
    "    #   # ─ 목적 필터: 관심 목적군만\n",
    "    #   .filter(pl.col(\"MOVE_PURPOSE\").is_in(\n",
    "    #       [\"쇼핑\",\"관광\",\"출근\",\"귀가\",\"병원\",\"기타\",\"등교\"]\n",
    "    #   ))\n",
    "\n",
    "\n",
    "      # ─ ETL_YMD 문자열을 Date 타입으로 바꿔서\n",
    "      .with_columns(\n",
    "          pl.col(\"ETL_YMD\")\n",
    "            .str.strptime(pl.Date, format=\"%Y%m%d\")\n",
    "            .alias(\"ETL_DATE\")\n",
    "      )\n",
    "\n",
    "#       # ─ 평일(월~금)만 남기기 (weekday 0~4)\n",
    "#       .filter(pl.col(\"ETL_DATE\").dt.weekday().is_in([0,1,2,3,4]))\n",
    "      \n",
    ")\n",
    "\n",
    "# 이제 `filtered`에 “원하는 기간·시간·목적·요일” 이 모두 적용되어 있으니,\n",
    "# 아래처럼 곧장 동별 연간 통계 계산에 쓰실 수 있습니다.\n",
    "\n"
   ]
  },
  {
   "cell_type": "code",
   "execution_count": null,
   "id": "d9498587",
   "metadata": {},
   "outputs": [
    {
     "name": "stdout",
     "output_type": "stream",
     "text": [
      "\n",
      "▶ step3 샘플:\n",
      "shape: (50, 4)\n",
      "┌─────────────┬──────────────────────────────┬────────────────┬────────────────┐\n",
      "│ YOUNG_RATIO ┆ FULL_NM                      ┆ YOUNG_VISITORS ┆ TOTAL_VISITORS │\n",
      "│ ---         ┆ ---                          ┆ ---            ┆ ---            │\n",
      "│ f64         ┆ str                          ┆ f64            ┆ f64            │\n",
      "╞═════════════╪══════════════════════════════╪════════════════╪════════════════╡\n",
      "│ 0.224515    ┆ 서울특별시_중구_신당5동      ┆ 27.42          ┆ 122.13         │\n",
      "│ 0.414714    ┆ 서울특별시_동작구_상도3동    ┆ 12.74          ┆ 30.72          │\n",
      "│ 0.153586    ┆ 경기도_하남시_덕풍1동        ┆ 9.08           ┆ 59.12          │\n",
      "│ 0.306814    ┆ 서울특별시_양천구_목1동      ┆ 762.54         ┆ 2485.35        │\n",
      "│ 0.491442    ┆ 경기도_안산시_상록구_사동    ┆ 172.84         ┆ 351.7          │\n",
      "│ …           ┆ …                            ┆ …              ┆ …              │\n",
      "│ 0.445463    ┆ 경기도_수원시_권선구_세류2동 ┆ 95.73          ┆ 214.9          │\n",
      "│ 0.135808    ┆ 경기도_안성시_일죽면         ┆ 17.78          ┆ 130.92         │\n",
      "│ 0.388041    ┆ 서울특별시_관악구_인헌동     ┆ 335.64         ┆ 864.96         │\n",
      "│ 0.510201    ┆ 인천광역시_연수구_연수2동    ┆ 367.87         ┆ 721.03         │\n",
      "│ 0.125166    ┆ 경기도_성남시_분당구_수내2동 ┆ 1.89           ┆ 15.1           │\n",
      "└─────────────┴──────────────────────────────┴────────────────┴────────────────┘\n"
     ]
    }
   ],
   "source": [
    "# 1️⃣ HOTNESS1 계산 & 상위30 평균\n",
    "\n",
    "\n",
    "young_cols = ['MALE_20_CNT','MALE_30_CNT','FEML_20_CNT','FEML_30_CNT']\n",
    "all_cols = young_cols + [ \n",
    "    'MALE_00_CNT','MALE_10_CNT','MALE_40_CNT','MALE_50_CNT','MALE_60_CNT','MALE_70_CNT',\n",
    "    'FEML_00_CNT','FEML_10_CNT','FEML_40_CNT','FEML_50_CNT','FEML_60_CNT','FEML_70_CNT'\n",
    "]\n",
    "\n",
    "import polars as pl\n",
    "\n",
    "# (1) 20·30대 합계와 전체 합계 Expr 정의\n",
    "young_sum: pl.Expr = sum(\n",
    "    (pl.col(c).cast(pl.Float64) for c in young_cols),\n",
    "    pl.lit(0.0)\n",
    ")         # “한 행(row)에서” 20·30대 합계\n",
    "\n",
    "total_sum: pl.Expr = sum(\n",
    "    (pl.col(c).cast(pl.Float64) for c in all_cols),\n",
    "    pl.lit(0.0)\n",
    ")         # “한 행(row)에서” 전체 방문자 합계\n",
    "\n",
    "\n",
    "#  날짜·시간·목적 필터  \n",
    "step1 = (\n",
    "    lazy_df\n",
    "      .filter((pl.col('ETL_YMD') >= '20240101') & (pl.col('ETL_YMD') <= '20241231'))\n",
    "    #   .filter((pl.col('TIME_CD').cast(pl.Int64) >= 10) & (pl.col('TIME_CD').cast(pl.Int64) <= 23))\n",
    "      .filter(pl.col('MOVE_PURPOSE').is_in(['쇼핑','관광','출근','귀가','병원','기타']))\n",
    ")\n",
    "\n",
    "\n",
    "step2 = (\n",
    "    step1\n",
    "      .with_columns(pl.col('ETL_YMD').str.strptime(pl.Date, format='%Y%m%d').alias('ETL_DATE'))\n",
    "    #   .filter(pl.col('ETL_DATE').dt.weekday().is_in([5, 6]))\n",
    ")\n",
    "\n",
    "# 4-1️⃣ 먼저 YOUNG_VISITORS, TOTAL_VISITORS, PURPOSE_FLAG, YOUNG_RATIO 만 추가\n",
    "step3 = step2.with_columns([\n",
    "    young_sum.alias(\"YOUNG_VISITORS\"),  #2030 합계\n",
    "    total_sum.alias(\"TOTAL_VISITORS\"),  #전체 합꼐\n",
    "\n",
    "    (young_sum / (total_sum + 1e-6)).alias(\"YOUNG_RATIO\"), #전체 중 2030 비율\n",
    "])\n",
    "\n",
    "print(\"\\n▶ step3 샘플:\")\n",
    "print(step3\n",
    "  .select([\"YOUNG_RATIO\", \"FULL_NM\",\"YOUNG_VISITORS\",\"TOTAL_VISITORS\", \"ETL_DATE\"])\n",
    "  .limit(50)\n",
    "  .collect()\n",
    ")\n"
   ]
  },
  {
   "cell_type": "code",
   "execution_count": 7,
   "id": "927b4b88",
   "metadata": {},
   "outputs": [
    {
     "name": "stdout",
     "output_type": "stream",
     "text": [
      "▶ 동별 연간 YOUNG_RATIO TOP30:\n",
      "shape: (30, 4)\n",
      "┌─────────────────────────────┬──────────────┬──────────────┬────────────────────┐\n",
      "│ FULL_NM                     ┆ ANNUAL_YOUNG ┆ ANNUAL_TOTAL ┆ ANNUAL_YOUNG_RATIO │\n",
      "│ ---                         ┆ ---          ┆ ---          ┆ ---                │\n",
      "│ str                         ┆ f64          ┆ f64          ┆ f64                │\n",
      "╞═════════════════════════════╪══════════════╪══════════════╪════════════════════╡\n",
      "│ 서울특별시_마포구_서교동    ┆ 3.8086e7     ┆ 6.3691e7     ┆ 0.597979           │\n",
      "├╌╌╌╌╌╌╌╌╌╌╌╌╌╌╌╌╌╌╌╌╌╌╌╌╌╌╌╌╌┼╌╌╌╌╌╌╌╌╌╌╌╌╌╌┼╌╌╌╌╌╌╌╌╌╌╌╌╌╌┼╌╌╌╌╌╌╌╌╌╌╌╌╌╌╌╌╌╌╌╌┤\n",
      "│ 서울특별시_마포구_연남동    ┆ 6.7546e6     ┆ 1.1672e7     ┆ 0.578721           │\n",
      "├╌╌╌╌╌╌╌╌╌╌╌╌╌╌╌╌╌╌╌╌╌╌╌╌╌╌╌╌╌┼╌╌╌╌╌╌╌╌╌╌╌╌╌╌┼╌╌╌╌╌╌╌╌╌╌╌╌╌╌┼╌╌╌╌╌╌╌╌╌╌╌╌╌╌╌╌╌╌╌╌┤\n",
      "│ 서울특별시_광진구_화양동    ┆ 1.2942e7     ┆ 2.2816e7     ┆ 0.567239           │\n",
      "├╌╌╌╌╌╌╌╌╌╌╌╌╌╌╌╌╌╌╌╌╌╌╌╌╌╌╌╌╌┼╌╌╌╌╌╌╌╌╌╌╌╌╌╌┼╌╌╌╌╌╌╌╌╌╌╌╌╌╌┼╌╌╌╌╌╌╌╌╌╌╌╌╌╌╌╌╌╌╌╌┤\n",
      "│ 서울특별시_관악구_신림동    ┆ 7.7443e6     ┆ 1.4307e7     ┆ 0.541288           │\n",
      "├╌╌╌╌╌╌╌╌╌╌╌╌╌╌╌╌╌╌╌╌╌╌╌╌╌╌╌╌╌┼╌╌╌╌╌╌╌╌╌╌╌╌╌╌┼╌╌╌╌╌╌╌╌╌╌╌╌╌╌┼╌╌╌╌╌╌╌╌╌╌╌╌╌╌╌╌╌╌╌╌┤\n",
      "│ 서울특별시_마포구_합정동    ┆ 8.2257e6     ┆ 1.5434e7     ┆ 0.532963           │\n",
      "├╌╌╌╌╌╌╌╌╌╌╌╌╌╌╌╌╌╌╌╌╌╌╌╌╌╌╌╌╌┼╌╌╌╌╌╌╌╌╌╌╌╌╌╌┼╌╌╌╌╌╌╌╌╌╌╌╌╌╌┼╌╌╌╌╌╌╌╌╌╌╌╌╌╌╌╌╌╌╌╌┤\n",
      "│ …                           ┆ …            ┆ …            ┆ …                  │\n",
      "├╌╌╌╌╌╌╌╌╌╌╌╌╌╌╌╌╌╌╌╌╌╌╌╌╌╌╌╌╌┼╌╌╌╌╌╌╌╌╌╌╌╌╌╌┼╌╌╌╌╌╌╌╌╌╌╌╌╌╌┼╌╌╌╌╌╌╌╌╌╌╌╌╌╌╌╌╌╌╌╌┤\n",
      "│ 경기도_수원시_팔달구_매산동 ┆ 8.1041e6     ┆ 1.7792e7     ┆ 0.455499           │\n",
      "├╌╌╌╌╌╌╌╌╌╌╌╌╌╌╌╌╌╌╌╌╌╌╌╌╌╌╌╌╌┼╌╌╌╌╌╌╌╌╌╌╌╌╌╌┼╌╌╌╌╌╌╌╌╌╌╌╌╌╌┼╌╌╌╌╌╌╌╌╌╌╌╌╌╌╌╌╌╌╌╌┤\n",
      "│ 서울특별시_종로구_혜화동    ┆ 7.6006e6     ┆ 1.6760e7     ┆ 0.453492           │\n",
      "├╌╌╌╌╌╌╌╌╌╌╌╌╌╌╌╌╌╌╌╌╌╌╌╌╌╌╌╌╌┼╌╌╌╌╌╌╌╌╌╌╌╌╌╌┼╌╌╌╌╌╌╌╌╌╌╌╌╌╌┼╌╌╌╌╌╌╌╌╌╌╌╌╌╌╌╌╌╌╌╌┤\n",
      "│ 인천광역시_옹진군_연평면    ┆ 432554.56    ┆ 956224.07    ┆ 0.452357           │\n",
      "├╌╌╌╌╌╌╌╌╌╌╌╌╌╌╌╌╌╌╌╌╌╌╌╌╌╌╌╌╌┼╌╌╌╌╌╌╌╌╌╌╌╌╌╌┼╌╌╌╌╌╌╌╌╌╌╌╌╌╌┼╌╌╌╌╌╌╌╌╌╌╌╌╌╌╌╌╌╌╌╌┤\n",
      "│ 경기도_성남시_분당구_삼평동 ┆ 1.8644e7     ┆ 4.1227e7     ┆ 0.452231           │\n",
      "├╌╌╌╌╌╌╌╌╌╌╌╌╌╌╌╌╌╌╌╌╌╌╌╌╌╌╌╌╌┼╌╌╌╌╌╌╌╌╌╌╌╌╌╌┼╌╌╌╌╌╌╌╌╌╌╌╌╌╌┼╌╌╌╌╌╌╌╌╌╌╌╌╌╌╌╌╌╌╌╌┤\n",
      "│ 서울특별시_송파구_송파1동   ┆ 7.2187e6     ┆ 1.5973e7     ┆ 0.451923           │\n",
      "└─────────────────────────────┴──────────────┴──────────────┴────────────────────┘\n",
      "\n",
      "▶ TOP30 평균 : 0.497187\n",
      "▶ TOP30 중앙값 : 0.488696\n",
      "\n",
      "▶ 난향동 연간 YOUNG_RATIO:\n",
      "shape: (1, 1)\n",
      "┌────────────────────┐\n",
      "│ ANNUAL_YOUNG_RATIO │\n",
      "│ ---                │\n",
      "│ f64                │\n",
      "╞════════════════════╡\n",
      "│ 0.210652           │\n",
      "└────────────────────┘\n"
     ]
    }
   ],
   "source": [
    "# 1️⃣ 동별 연간 합산 & 비율 계산\n",
    "annual = (\n",
    "    step3\n",
    "      .group_by(\"FULL_NM\")\n",
    "      .agg([\n",
    "        pl.sum(\"YOUNG_VISITORS\").alias(\"ANNUAL_YOUNG\"),\n",
    "        pl.sum(\"TOTAL_VISITORS\").alias(\"ANNUAL_TOTAL\"),\n",
    "      ])\n",
    "      .with_columns([\n",
    "        (pl.col(\"ANNUAL_YOUNG\") / (pl.col(\"ANNUAL_TOTAL\") + 1e-6))\n",
    "          .alias(\"ANNUAL_YOUNG_RATIO\")\n",
    "      ])\n",
    "      .collect()  # 이제 동 단위 수백 개 행만 메모리에 로드\n",
    ")\n",
    "\n",
    "# 2️⃣ ANNUAL_YOUNG_RATIO로 상위 30개 추출\n",
    "top30 = (\n",
    "    annual\n",
    "      .sort(\"ANNUAL_YOUNG_RATIO\", descending=True)\n",
    "      .head(30)    # .head(30)도 좋고 .limit(30).collect() 여기도 엑션이지만 이미 eager\n",
    ")\n",
    "\n",
    "print(\"▶ 동별 연간 YOUNG_RATIO TOP30:\")\n",
    "print(top30)\n",
    "\n",
    "# 3️⃣ 상위30 평균·중앙값 계산\n",
    "mean_30   = top30[\"ANNUAL_YOUNG_RATIO\"].mean()\n",
    "median_30 = top30[\"ANNUAL_YOUNG_RATIO\"].median()\n",
    "\n",
    "print(f\"\\n▶ TOP30 평균 : {mean_30:.6f}\")\n",
    "print(f\"▶ TOP30 중앙값 : {median_30:.6f}\")\n",
    "\n",
    "# 4️⃣ 난향동 연간 YOUNG_RATIO\n",
    "nanhyang = annual.filter(pl.col(\"FULL_NM\") == \"서울특별시_관악구_난향동\")\n",
    "print(\"\\n▶ 난향동 연간 YOUNG_RATIO:\")\n",
    "print(nanhyang.select(\"ANNUAL_YOUNG_RATIO\"))\n"
   ]
  },
  {
   "cell_type": "code",
   "execution_count": null,
   "id": "29dd934b",
   "metadata": {},
   "outputs": [
    {
     "data": {
      "text/plain": [
       "polars.config.Config"
      ]
     },
     "execution_count": 5,
     "metadata": {},
     "output_type": "execute_result"
    }
   ],
   "source": []
  },
  {
   "cell_type": "code",
   "execution_count": null,
   "id": "491b146b",
   "metadata": {},
   "outputs": [],
   "source": []
  }
 ],
 "metadata": {
  "kernelspec": {
   "display_name": "Python 3",
   "language": "python",
   "name": "python3"
  },
  "language_info": {
   "codemirror_mode": {
    "name": "ipython",
    "version": 3
   },
   "file_extension": ".py",
   "mimetype": "text/x-python",
   "name": "python",
   "nbconvert_exporter": "python",
   "pygments_lexer": "ipython3",
   "version": "3.12.11"
  }
 },
 "nbformat": 4,
 "nbformat_minor": 5
}
