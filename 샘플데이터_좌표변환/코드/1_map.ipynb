{
 "cells": [
  {
   "cell_type": "code",
   "execution_count": null,
   "id": "b1747707",
   "metadata": {},
   "outputs": [],
   "source": [
    "# 0) 필요한 패키지 설치 (한 번만)\n"
   ]
  },
  {
   "cell_type": "code",
   "execution_count": 27,
   "id": "830c680e",
   "metadata": {},
   "outputs": [
    {
     "name": "stdout",
     "output_type": "stream",
     "text": [
      "✅ 변환 완료:\n",
      "  • PURPOSE_250M_202403_with_lonlat.csv\n",
      "  • PURPOSE_250M_202403_map.html\n"
     ]
    }
   ],
   "source": [
    "import pandas as pd\n",
    "from pyproj import Transformer\n",
    "import folium\n",
    "\n",
    "# 1) CSV 읽기 (한글 인코딩 오류 방지)\n",
    "df = pd.read_csv(\"PURPOSE_250M_202403.csv\", encoding=\"cp949\")\n",
    "\n",
    "# 2) 컬럼명에 맞춰 숫자형 변환 & 결측치 제거\n",
    "df['cell_X_o'] = pd.to_numeric(df['O_CELL_X'], errors='coerce')\n",
    "df['cell_Y_o'] = pd.to_numeric(df['O_CELL_Y'], errors='coerce')\n",
    "df['cell_X_d'] = pd.to_numeric(df['D_CELL_X'], errors='coerce')\n",
    "df['cell_Y_d'] = pd.to_numeric(df['D_CELL_Y'], errors='coerce')\n",
    "df = df.dropna(subset=['cell_X_o', 'cell_Y_o', 'cell_X_d', 'cell_Y_d']) \\\n",
    "       .reset_index(drop=True)\n",
    "\n",
    "# 3) Transformer 정의\n",
    "#   EPSG:5179 → EPSG:3857 → EPSG:4326\n",
    "t1 = Transformer.from_crs(\"EPSG:5179\", \"EPSG:3857\", always_xy=True)\n",
    "t2 = Transformer.from_crs(\"EPSG:3857\", \"EPSG:4326\", always_xy=True)\n",
    "\n",
    "# 4) 출발지 변환\n",
    "# x_o_3857, y_o_3857 = t1.transform(df['cell_X_o'].values, df['cell_Y_o'].values)\n",
    "# df['x_o_3857'], df['y_o_3857'] = x_o_3857, y_o_3857  # 3857 컬럼은 데이터에 남기지 않음\n",
    "lon_o, lat_o = t2.transform(*t1.transform(df['cell_X_o'].values, df['cell_Y_o'].values))\n",
    "df['lon_o'], df['lat_o'] = lon_o, lat_o\n",
    "\n",
    "# 5) 도착지 변환\n",
    "# x_d_3857, y_d_3857 = t1.transform(df['cell_X_d'].values, df['cell_Y_d'].values)\n",
    "# df['x_d_3857'], df['y_d_3857'] = x_d_3857, y_d_3857  # 3857 컬럼은 데이터에 남기지 않음\n",
    "lon_d, lat_d = t2.transform(*t1.transform(df['cell_X_d'].values, df['cell_Y_d'].values))\n",
    "df['lon_d'], df['lat_d'] = lon_d, lat_d\n",
    "\n",
    "# 6) 결과 CSV로 저장 (utf-8-sig)\n",
    "df.to_csv(\"PURPOSE_250M_202403_with_lonlat.csv\",\n",
    "          index=False, encoding=\"utf-8-sig\")\n",
    "\n",
    "# 7) Folium 대화형 지도 생성 (출발: 파란 점, 도착: 빨간 점)\n",
    "m = folium.Map(\n",
    "    location=[df['lat_o'].mean(), df['lon_o'].mean()],\n",
    "    zoom_start=7,\n",
    "    tiles=\"OpenStreetMap\"\n",
    ")\n",
    "\n",
    "for _, row in df.iterrows():\n",
    "    # 출발지 (blue)\n",
    "    folium.CircleMarker(\n",
    "        location=[row['lat_o'], row['lon_o']],\n",
    "        radius=2,\n",
    "        color='blue',\n",
    "        fill=True,\n",
    "        fill_opacity=0.7,\n",
    "    ).add_to(m)\n",
    "    # 도착지 (red)\n",
    "    folium.CircleMarker(\n",
    "        location=[row['lat_d'], row['lon_d']],\n",
    "        radius=2,\n",
    "        color='red',\n",
    "        fill=True,\n",
    "        fill_opacity=0.7,\n",
    "    ).add_to(m)\n",
    "\n",
    "m.save(\"PURPOSE_250M_202403_map.html\")\n",
    "print(\"✅ 변환 완료:\")\n",
    "print(\"  • PURPOSE_250M_202403_with_lonlat.csv\")\n",
    "print(\"  • PURPOSE_250M_202403_map.html\")\n"
   ]
  },
  {
   "cell_type": "code",
   "execution_count": null,
   "id": "d4fc0b6f",
   "metadata": {},
   "outputs": [],
   "source": []
  },
  {
   "cell_type": "code",
   "execution_count": 20,
   "id": "2edcfb04",
   "metadata": {},
   "outputs": [
    {
     "name": "stdout",
     "output_type": "stream",
     "text": [
      "   cell_X   cell_Y\n",
      "0  931125  1946875\n",
      "1  944875  1950125\n",
      "2  954125  1942125\n",
      "3  952375  1951375\n",
      "4  954375  1916625\n",
      "          lon        lat\n",
      "0  137.330121  50.563444\n",
      "1  137.527406  50.574899\n",
      "2  137.639654  50.492419\n",
      "3  137.633983  50.576383\n",
      "4  137.592244  50.266788\n"
     ]
    }
   ],
   "source": [
    "print(df[['cell_X','cell_Y']].head())\n",
    "print(df[['lon','lat']].head())    # folium용 변환 후\n"
   ]
  },
  {
   "cell_type": "code",
   "execution_count": null,
   "id": "11a36980",
   "metadata": {},
   "outputs": [],
   "source": []
  },
  {
   "cell_type": "markdown",
   "id": "1dc1344b",
   "metadata": {},
   "source": []
  },
  {
   "cell_type": "code",
   "execution_count": 22,
   "id": "45654e1e",
   "metadata": {},
   "outputs": [
    {
     "name": "stdout",
     "output_type": "stream",
     "text": [
      "→ EPSG:3857:  x=15287519.136, y=6544432.374\n",
      "→ WGS84:  lon=137.330121, lat=50.563444\n"
     ]
    }
   ],
   "source": [
    "from pyproj import Transformer\n",
    "\n",
    "# 1) 테스트할 한 점\n",
    "x_in, y_in = 931125, 1946875\n",
    "\n",
    "# 2) EPSG:5174 → EPSG:3857\n",
    "t1 = Transformer.from_crs(\"EPSG:5174\", \"EPSG:3857\", always_xy=True)\n",
    "x_3857, y_3857 = t1.transform(x_in, y_in)\n",
    "print(f\"→ EPSG:3857:  x={x_3857:.3f}, y={y_3857:.3f}\")\n",
    "\n",
    "# 3) EPSG:3857 → EPSG:4326\n",
    "t2 = Transformer.from_crs(\"EPSG:3857\", \"EPSG:4326\", always_xy=True)\n",
    "lon, lat = t2.transform(x_3857, y_3857)\n",
    "print(f\"→ WGS84:  lon={lon:.6f}, lat={lat:.6f}\")\n"
   ]
  },
  {
   "cell_type": "code",
   "execution_count": null,
   "id": "7d3430e0",
   "metadata": {},
   "outputs": [],
   "source": []
  },
  {
   "cell_type": "code",
   "execution_count": null,
   "id": "9b37eb30",
   "metadata": {},
   "outputs": [],
   "source": []
  },
  {
   "cell_type": "code",
   "execution_count": null,
   "id": "4af26731",
   "metadata": {},
   "outputs": [],
   "source": []
  },
  {
   "cell_type": "code",
   "execution_count": null,
   "id": "29f2d544",
   "metadata": {},
   "outputs": [],
   "source": []
  },
  {
   "cell_type": "code",
   "execution_count": null,
   "id": "a80f63a5",
   "metadata": {},
   "outputs": [],
   "source": []
  }
 ],
 "metadata": {
  "kernelspec": {
   "display_name": "base",
   "language": "python",
   "name": "python3"
  },
  "language_info": {
   "codemirror_mode": {
    "name": "ipython",
    "version": 3
   },
   "file_extension": ".py",
   "mimetype": "text/x-python",
   "name": "python",
   "nbconvert_exporter": "python",
   "pygments_lexer": "ipython3",
   "version": "3.11.5"
  }
 },
 "nbformat": 4,
 "nbformat_minor": 5
}
